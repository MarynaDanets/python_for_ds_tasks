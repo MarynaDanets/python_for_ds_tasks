{
 "cells": [
  {
   "cell_type": "markdown",
   "id": "ab4e745e",
   "metadata": {},
   "source": [
    "Для початку встановимо бібліотеку, яка потрібна для роботи з Excel файлами з pandas. Можна встановити тут, або в терміналі, але якщо Ви встановлюєте в терміналі, то після того треба перезапустити ядро (Kernel) ноутбуку, аби бібліотека точно підтягнулась. Іноді підтягується і без того, але це на випадок, що робити, якщо компілятор каже, що її не бачить."
   ]
  },
  {
   "cell_type": "code",
   "execution_count": 1,
   "id": "8260300e",
   "metadata": {
    "ExecuteTime": {
     "end_time": "2024-02-06T21:48:23.179020Z",
     "start_time": "2024-02-06T21:48:15.748309Z"
    },
    "tags": []
   },
   "outputs": [
    {
     "name": "stdout",
     "output_type": "stream",
     "text": [
      "Requirement already satisfied: openpyxl in d:\\downloads\\installpack_downloads\\anaconda3\\lib\\site-packages (3.0.10)\n",
      "Requirement already satisfied: et_xmlfile in d:\\downloads\\installpack_downloads\\anaconda3\\lib\\site-packages (from openpyxl) (1.1.0)\n"
     ]
    }
   ],
   "source": [
    "!pip install openpyxl"
   ]
  },
  {
   "cell_type": "code",
   "execution_count": 2,
   "id": "9f8741e0",
   "metadata": {
    "ExecuteTime": {
     "end_time": "2024-02-06T21:48:28.994898Z",
     "start_time": "2024-02-06T21:48:23.183988Z"
    },
    "tags": []
   },
   "outputs": [],
   "source": [
    "import matplotlib.pyplot as plt\n",
    "import numpy as np\n",
    "import pandas as pd\n",
    "import seaborn as sns\n",
    "import warnings"
   ]
  },
  {
   "cell_type": "markdown",
   "id": "ee6256e0",
   "metadata": {},
   "source": [
    "Ось так можемо переглянути, які є листки в Excel файлі:"
   ]
  },
  {
   "cell_type": "code",
   "execution_count": 3,
   "id": "2b13dd59",
   "metadata": {
    "ExecuteTime": {
     "end_time": "2024-02-06T21:48:29.001392Z",
     "start_time": "2024-02-06T21:48:28.997667Z"
    },
    "tags": []
   },
   "outputs": [],
   "source": [
    "# замініть на шлях до файлу на своєму комп`ютері\n",
    "path_to_file = '../data/Grocery Database.xlsx'"
   ]
  },
  {
   "cell_type": "code",
   "execution_count": 4,
   "id": "54c01751",
   "metadata": {
    "ExecuteTime": {
     "end_time": "2024-02-06T21:48:42.206650Z",
     "start_time": "2024-02-06T21:48:29.005223Z"
    },
    "scrolled": true,
    "tags": []
   },
   "outputs": [
    {
     "data": {
      "text/plain": [
       "['Grosto DB', 'Sheet2', 'Fact Summary']"
      ]
     },
     "execution_count": 4,
     "metadata": {},
     "output_type": "execute_result"
    }
   ],
   "source": [
    "xl = pd.ExcelFile(path_to_file)\n",
    "xl.sheet_names"
   ]
  },
  {
   "cell_type": "markdown",
   "id": "1ea6884d",
   "metadata": {},
   "source": [
    "А так можемо зчитати конкретний листок:"
   ]
  },
  {
   "cell_type": "code",
   "execution_count": 5,
   "id": "1341eb0b",
   "metadata": {
    "ExecuteTime": {
     "end_time": "2024-02-06T21:48:42.232334Z",
     "start_time": "2024-02-06T21:48:42.209624Z"
    },
    "tags": []
   },
   "outputs": [],
   "source": [
    "descr = xl.parse('Fact Summary')"
   ]
  },
  {
   "cell_type": "markdown",
   "id": "44fe8a1e",
   "metadata": {},
   "source": [
    "Читати дані можна і з Pandas, але тут немає можливості переглянути наявні листки, а також довше відбувається читання даних."
   ]
  },
  {
   "cell_type": "code",
   "execution_count": 6,
   "id": "2fb8f4ad",
   "metadata": {
    "ExecuteTime": {
     "end_time": "2024-02-06T21:49:23.513865Z",
     "start_time": "2024-02-06T21:48:46.769685Z"
    },
    "tags": []
   },
   "outputs": [],
   "source": [
    "df = pd.read_excel(path_to_file)"
   ]
  },
  {
   "cell_type": "markdown",
   "id": "5fd92065-5199-4b35-b1c8-2f36559f9806",
   "metadata": {},
   "source": [
    "# Початковий аналіз даних"
   ]
  },
  {
   "cell_type": "markdown",
   "id": "b75ddf60-a760-41df-9982-76b8696a41eb",
   "metadata": {},
   "source": [
    "1.Виведемо перші 3 записи з набору даних, типи даних в наборі даних df та розміри набору даних:"
   ]
  },
  {
   "cell_type": "code",
   "execution_count": 7,
   "id": "0b5c574f-1d5c-472b-82db-7ca52f330fe8",
   "metadata": {
    "tags": []
   },
   "outputs": [
    {
     "data": {
      "text/html": [
       "<div>\n",
       "<style scoped>\n",
       "    .dataframe tbody tr th:only-of-type {\n",
       "        vertical-align: middle;\n",
       "    }\n",
       "\n",
       "    .dataframe tbody tr th {\n",
       "        vertical-align: top;\n",
       "    }\n",
       "\n",
       "    .dataframe thead th {\n",
       "        text-align: right;\n",
       "    }\n",
       "</style>\n",
       "<table border=\"1\" class=\"dataframe\">\n",
       "  <thead>\n",
       "    <tr style=\"text-align: right;\">\n",
       "      <th></th>\n",
       "      <th>Receipt Number</th>\n",
       "      <th>Date</th>\n",
       "      <th>Year</th>\n",
       "      <th>Month</th>\n",
       "      <th>Time</th>\n",
       "      <th>Mobile Number</th>\n",
       "      <th>Membership ID</th>\n",
       "      <th>Loyalty Card Points</th>\n",
       "      <th>Age</th>\n",
       "      <th>Gender</th>\n",
       "      <th>...</th>\n",
       "      <th>GST</th>\n",
       "      <th>Gross Bill Amount</th>\n",
       "      <th>Payment Mode</th>\n",
       "      <th>Bank Name</th>\n",
       "      <th>% Profit Margin</th>\n",
       "      <th>% Operating Cost</th>\n",
       "      <th>% Product Cost</th>\n",
       "      <th>Profit Margin</th>\n",
       "      <th>Operating Cost</th>\n",
       "      <th>Product Cost</th>\n",
       "    </tr>\n",
       "  </thead>\n",
       "  <tbody>\n",
       "    <tr>\n",
       "      <th>0</th>\n",
       "      <td>GIJ00001</td>\n",
       "      <td>2016-01-02</td>\n",
       "      <td>2016</td>\n",
       "      <td>1</td>\n",
       "      <td>10:08:03.260000</td>\n",
       "      <td>9793548581</td>\n",
       "      <td>MIDID0001</td>\n",
       "      <td>1</td>\n",
       "      <td>36</td>\n",
       "      <td>Male</td>\n",
       "      <td>...</td>\n",
       "      <td>0.1</td>\n",
       "      <td>13.32408</td>\n",
       "      <td>Card</td>\n",
       "      <td>Enterprise Bank</td>\n",
       "      <td>0.150</td>\n",
       "      <td>0.15</td>\n",
       "      <td>0.700</td>\n",
       "      <td>1.85400</td>\n",
       "      <td>1.8540</td>\n",
       "      <td>8.65200</td>\n",
       "    </tr>\n",
       "    <tr>\n",
       "      <th>1</th>\n",
       "      <td>GIJ00002</td>\n",
       "      <td>2016-01-02</td>\n",
       "      <td>2016</td>\n",
       "      <td>1</td>\n",
       "      <td>15:46:50.832000</td>\n",
       "      <td>9938441276</td>\n",
       "      <td>MIDID0002</td>\n",
       "      <td>2</td>\n",
       "      <td>54</td>\n",
       "      <td>Male</td>\n",
       "      <td>...</td>\n",
       "      <td>0.1</td>\n",
       "      <td>25.26480</td>\n",
       "      <td>Card</td>\n",
       "      <td>Philippine Veterans Bank</td>\n",
       "      <td>0.118</td>\n",
       "      <td>0.15</td>\n",
       "      <td>0.732</td>\n",
       "      <td>2.73760</td>\n",
       "      <td>3.4800</td>\n",
       "      <td>16.98240</td>\n",
       "    </tr>\n",
       "    <tr>\n",
       "      <th>2</th>\n",
       "      <td>GIJ00003</td>\n",
       "      <td>2016-01-02</td>\n",
       "      <td>2016</td>\n",
       "      <td>1</td>\n",
       "      <td>11:28:52.166000</td>\n",
       "      <td>9976742552</td>\n",
       "      <td>MIDID0003</td>\n",
       "      <td>1</td>\n",
       "      <td>16</td>\n",
       "      <td>Female</td>\n",
       "      <td>...</td>\n",
       "      <td>0.1</td>\n",
       "      <td>42.18786</td>\n",
       "      <td>Cash</td>\n",
       "      <td>BDO Unibank</td>\n",
       "      <td>0.147</td>\n",
       "      <td>0.15</td>\n",
       "      <td>0.703</td>\n",
       "      <td>1.95657</td>\n",
       "      <td>1.9965</td>\n",
       "      <td>9.35693</td>\n",
       "    </tr>\n",
       "  </tbody>\n",
       "</table>\n",
       "<p>3 rows × 32 columns</p>\n",
       "</div>"
      ],
      "text/plain": [
       "  Receipt Number       Date  Year  Month             Time  Mobile Number  \\\n",
       "0       GIJ00001 2016-01-02  2016      1  10:08:03.260000     9793548581   \n",
       "1       GIJ00002 2016-01-02  2016      1  15:46:50.832000     9938441276   \n",
       "2       GIJ00003 2016-01-02  2016      1  11:28:52.166000     9976742552   \n",
       "\n",
       "  Membership ID  Loyalty Card Points  Age  Gender  ...  GST Gross Bill Amount  \\\n",
       "0     MIDID0001                    1   36    Male  ...  0.1          13.32408   \n",
       "1     MIDID0002                    2   54    Male  ...  0.1          25.26480   \n",
       "2     MIDID0003                    1   16  Female  ...  0.1          42.18786   \n",
       "\n",
       "  Payment Mode                 Bank Name % Profit Margin % Operating Cost  \\\n",
       "0         Card           Enterprise Bank           0.150             0.15   \n",
       "1         Card  Philippine Veterans Bank           0.118             0.15   \n",
       "2         Cash               BDO Unibank           0.147             0.15   \n",
       "\n",
       "  % Product Cost  Profit Margin  Operating Cost  Product Cost  \n",
       "0          0.700        1.85400          1.8540       8.65200  \n",
       "1          0.732        2.73760          3.4800      16.98240  \n",
       "2          0.703        1.95657          1.9965       9.35693  \n",
       "\n",
       "[3 rows x 32 columns]"
      ]
     },
     "metadata": {},
     "output_type": "display_data"
    },
    {
     "data": {
      "text/plain": [
       "Receipt Number                 object\n",
       "Date                   datetime64[ns]\n",
       "Year                            int64\n",
       "Month                           int64\n",
       "Time                           object\n",
       "Mobile Number                   int64\n",
       "Membership ID                  object\n",
       "Loyalty Card Points             int64\n",
       "Age                             int64\n",
       "Gender                         object\n",
       "City                           object\n",
       "Country                        object\n",
       "Category                       object\n",
       "Sub_Category                   object\n",
       "Items                          object\n",
       "Brand                          object\n",
       "Description                    object\n",
       "Price                         float64\n",
       "QTY                             int64\n",
       "DISC                          float64\n",
       "Amount                        float64\n",
       "Net Bill Amount               float64\n",
       "GST                           float64\n",
       "Gross Bill Amount             float64\n",
       "Payment Mode                   object\n",
       "Bank Name                      object\n",
       "% Profit Margin               float64\n",
       "% Operating Cost              float64\n",
       "% Product Cost                float64\n",
       "Profit Margin                 float64\n",
       "Operating Cost                float64\n",
       "Product Cost                  float64\n",
       "dtype: object"
      ]
     },
     "metadata": {},
     "output_type": "display_data"
    },
    {
     "data": {
      "text/plain": [
       "(50447, 32)"
      ]
     },
     "metadata": {},
     "output_type": "display_data"
    }
   ],
   "source": [
    "display(df.head(3), df.dtypes, df.shape)"
   ]
  },
  {
   "cell_type": "markdown",
   "id": "2441a359-f756-4067-a424-ded2603555ed",
   "metadata": {},
   "source": [
    "2.Перевіримо, чи є в цьому наборі даних пропущені значення:"
   ]
  },
  {
   "cell_type": "code",
   "execution_count": 8,
   "id": "59785cea-d522-4194-a78f-075f5d71b890",
   "metadata": {
    "tags": []
   },
   "outputs": [
    {
     "data": {
      "text/plain": [
       "Receipt Number         0\n",
       "Date                   0\n",
       "Year                   0\n",
       "Month                  0\n",
       "Time                   0\n",
       "Mobile Number          0\n",
       "Membership ID          0\n",
       "Loyalty Card Points    0\n",
       "Age                    0\n",
       "Gender                 0\n",
       "City                   0\n",
       "Country                0\n",
       "Category               0\n",
       "Sub_Category           0\n",
       "Items                  0\n",
       "Brand                  0\n",
       "Description            0\n",
       "Price                  0\n",
       "QTY                    0\n",
       "DISC                   0\n",
       "Amount                 0\n",
       "Net Bill Amount        0\n",
       "GST                    0\n",
       "Gross Bill Amount      0\n",
       "Payment Mode           0\n",
       "Bank Name              0\n",
       "% Profit Margin        0\n",
       "% Operating Cost       0\n",
       "% Product Cost         0\n",
       "Profit Margin          0\n",
       "Operating Cost         0\n",
       "Product Cost           0\n",
       "dtype: int64"
      ]
     },
     "execution_count": 8,
     "metadata": {},
     "output_type": "execute_result"
    }
   ],
   "source": [
    "df.isna().sum()"
   ]
  },
  {
   "cell_type": "markdown",
   "id": "a8d5c185-adf0-4ddb-bbbf-7a6ab28348ca",
   "metadata": {},
   "source": [
    "3.Перевіримо чи сумарна вартість товарів в чеку дорівнює сумі, вказаній для чеку в окремій колонці. Візьмемо такий рахунок з номером \"GIJ00008\", де більше однієї позиції, а також кількість деяких позицій > 1:"
   ]
  },
  {
   "cell_type": "code",
   "execution_count": 9,
   "id": "8e6f9e4e-91fe-4076-9ffb-df253bd66644",
   "metadata": {
    "tags": []
   },
   "outputs": [
    {
     "data": {
      "text/plain": [
       "array([123.0096])"
      ]
     },
     "execution_count": 9,
     "metadata": {},
     "output_type": "execute_result"
    }
   ],
   "source": [
    "df[df['Receipt Number'] == 'GIJ00008']['Net Bill Amount'].unique()"
   ]
  },
  {
   "cell_type": "code",
   "execution_count": 10,
   "id": "41ecec62-71ff-477b-853a-6f3098a232c6",
   "metadata": {
    "tags": []
   },
   "outputs": [
    {
     "data": {
      "text/plain": [
       "123.0096"
      ]
     },
     "execution_count": 10,
     "metadata": {},
     "output_type": "execute_result"
    }
   ],
   "source": [
    "df[df['Receipt Number'] == 'GIJ00008'].Amount.sum()"
   ]
  },
  {
   "cell_type": "markdown",
   "id": "9d7b44a2-4692-4d59-89f8-f92f7f429f74",
   "metadata": {},
   "source": [
    "4.Виведемо список країн та міст для подальшого дослідження:"
   ]
  },
  {
   "cell_type": "code",
   "execution_count": 11,
   "id": "b68a89c8-4c31-4280-aa28-238fa5c6657b",
   "metadata": {
    "tags": []
   },
   "outputs": [
    {
     "data": {
      "text/plain": [
       "array(['Indonesia', 'Malaysia', 'Philippines', 'Singapore'], dtype=object)"
      ]
     },
     "metadata": {},
     "output_type": "display_data"
    },
    {
     "data": {
      "text/plain": [
       "array(['Jakarta', 'Kuala Lumpur', 'Manila', 'Bedok', 'Woodlands'],\n",
       "      dtype=object)"
      ]
     },
     "metadata": {},
     "output_type": "display_data"
    }
   ],
   "source": [
    "display(df.Country.unique(), df.City.unique())"
   ]
  },
  {
   "cell_type": "markdown",
   "id": "52361cf6-2084-4a86-95b2-a6639d15f074",
   "metadata": {},
   "source": [
    "# Аналіз даних"
   ]
  },
  {
   "cell_type": "markdown",
   "id": "0e69b99d-70b8-4702-a987-112235549a17",
   "metadata": {},
   "source": [
    "**Питання 1**\n",
    "Розглянути міста та іх прибуток у кожному році."
   ]
  },
  {
   "cell_type": "code",
   "execution_count": 12,
   "id": "f2604608-fd58-4409-96ec-55202d552b82",
   "metadata": {
    "tags": []
   },
   "outputs": [
    {
     "data": {
      "text/html": [
       "<div>\n",
       "<style scoped>\n",
       "    .dataframe tbody tr th:only-of-type {\n",
       "        vertical-align: middle;\n",
       "    }\n",
       "\n",
       "    .dataframe tbody tr th {\n",
       "        vertical-align: top;\n",
       "    }\n",
       "\n",
       "    .dataframe thead th {\n",
       "        text-align: right;\n",
       "    }\n",
       "</style>\n",
       "<table border=\"1\" class=\"dataframe\">\n",
       "  <thead>\n",
       "    <tr style=\"text-align: right;\">\n",
       "      <th>City</th>\n",
       "      <th>Bedok</th>\n",
       "      <th>Jakarta</th>\n",
       "      <th>Kuala Lumpur</th>\n",
       "      <th>Manila</th>\n",
       "      <th>Woodlands</th>\n",
       "    </tr>\n",
       "    <tr>\n",
       "      <th>Year</th>\n",
       "      <th></th>\n",
       "      <th></th>\n",
       "      <th></th>\n",
       "      <th></th>\n",
       "      <th></th>\n",
       "    </tr>\n",
       "  </thead>\n",
       "  <tbody>\n",
       "    <tr>\n",
       "      <th>2016</th>\n",
       "      <td>3158.3</td>\n",
       "      <td>2395.6</td>\n",
       "      <td>2558.1</td>\n",
       "      <td>2621.0</td>\n",
       "      <td>1588.1</td>\n",
       "    </tr>\n",
       "    <tr>\n",
       "      <th>2017</th>\n",
       "      <td>3347.2</td>\n",
       "      <td>2600.1</td>\n",
       "      <td>2863.7</td>\n",
       "      <td>3221.4</td>\n",
       "      <td>1686.9</td>\n",
       "    </tr>\n",
       "    <tr>\n",
       "      <th>2018</th>\n",
       "      <td>3773.2</td>\n",
       "      <td>2812.8</td>\n",
       "      <td>3400.3</td>\n",
       "      <td>3852.6</td>\n",
       "      <td>1951.4</td>\n",
       "    </tr>\n",
       "    <tr>\n",
       "      <th>2019</th>\n",
       "      <td>4371.0</td>\n",
       "      <td>3260.1</td>\n",
       "      <td>4136.0</td>\n",
       "      <td>4760.6</td>\n",
       "      <td>2263.0</td>\n",
       "    </tr>\n",
       "  </tbody>\n",
       "</table>\n",
       "</div>"
      ],
      "text/plain": [
       "City   Bedok  Jakarta  Kuala Lumpur  Manila  Woodlands\n",
       "Year                                                  \n",
       "2016  3158.3   2395.6        2558.1  2621.0     1588.1\n",
       "2017  3347.2   2600.1        2863.7  3221.4     1686.9\n",
       "2018  3773.2   2812.8        3400.3  3852.6     1951.4\n",
       "2019  4371.0   3260.1        4136.0  4760.6     2263.0"
      ]
     },
     "execution_count": 12,
     "metadata": {},
     "output_type": "execute_result"
    }
   ],
   "source": [
    "city_pivot = df.pivot_table(index = 'Year', columns = 'City', values = 'Profit Margin', aggfunc = 'sum')\n",
    "round(city_pivot, 1)"
   ]
  },
  {
   "cell_type": "markdown",
   "id": "cb7f535a-526f-4db0-8c26-f5fa15e947aa",
   "metadata": {},
   "source": [
    "Бачимо, що в кожному місті дохід зростає з кожним роком відповідно. Одразу бачимо, що міста Bedok та Manila лідують."
   ]
  },
  {
   "cell_type": "markdown",
   "id": "e6572c23-263f-42fa-b89a-5eb757d61208",
   "metadata": {},
   "source": [
    "**Питання 2**\n",
    "Побудувати графік, щоб дослідити наглядно, який прибуток приносять міста."
   ]
  },
  {
   "cell_type": "code",
   "execution_count": 13,
   "id": "49ef8fbc-b056-48b5-b760-1bd6e6d147d4",
   "metadata": {
    "tags": []
   },
   "outputs": [
    {
     "data": {
      "image/png": "[encoded data removed]",
      "text/plain": [
       "<Figure size 640x480 with 1 Axes>"
      ]
     },
     "metadata": {},
     "output_type": "display_data"
    }
   ],
   "source": [
    "city_pivot.plot(xticks = city_pivot.index, ylabel = 'Profit Margin');"
   ]
  },
  {
   "cell_type": "markdown",
   "id": "e37c23d0-d1a9-418d-8b78-c78781b1c645",
   "metadata": {},
   "source": [
    "Міста Bedok та Manila лідують. Кореляція для кожного з міст - позитвна."
   ]
  },
  {
   "cell_type": "markdown",
   "id": "147a51ef-51ee-4b97-ab06-26035f62449a",
   "metadata": {},
   "source": [
    "**Питання 3**\n",
    "Порахуємо загальну суму доходу з кожної країни."
   ]
  },
  {
   "cell_type": "code",
   "execution_count": 14,
   "id": "0a5ba40f-4a94-423c-9145-95ee288252df",
   "metadata": {
    "tags": []
   },
   "outputs": [
    {
     "data": {
      "text/html": [
       "<div>\n",
       "<style scoped>\n",
       "    .dataframe tbody tr th:only-of-type {\n",
       "        vertical-align: middle;\n",
       "    }\n",
       "\n",
       "    .dataframe tbody tr th {\n",
       "        vertical-align: top;\n",
       "    }\n",
       "\n",
       "    .dataframe thead th {\n",
       "        text-align: right;\n",
       "    }\n",
       "</style>\n",
       "<table border=\"1\" class=\"dataframe\">\n",
       "  <thead>\n",
       "    <tr style=\"text-align: right;\">\n",
       "      <th></th>\n",
       "      <th>City</th>\n",
       "      <th>Profit Margin</th>\n",
       "    </tr>\n",
       "  </thead>\n",
       "  <tbody>\n",
       "    <tr>\n",
       "      <th>0</th>\n",
       "      <td>Bedok</td>\n",
       "      <td>14649.60</td>\n",
       "    </tr>\n",
       "    <tr>\n",
       "      <th>1</th>\n",
       "      <td>Manila</td>\n",
       "      <td>14455.63</td>\n",
       "    </tr>\n",
       "    <tr>\n",
       "      <th>2</th>\n",
       "      <td>Kuala Lumpur</td>\n",
       "      <td>12958.12</td>\n",
       "    </tr>\n",
       "    <tr>\n",
       "      <th>3</th>\n",
       "      <td>Jakarta</td>\n",
       "      <td>11068.60</td>\n",
       "    </tr>\n",
       "    <tr>\n",
       "      <th>4</th>\n",
       "      <td>Woodlands</td>\n",
       "      <td>7489.30</td>\n",
       "    </tr>\n",
       "  </tbody>\n",
       "</table>\n",
       "</div>"
      ],
      "text/plain": [
       "           City  Profit Margin\n",
       "0         Bedok       14649.60\n",
       "1        Manila       14455.63\n",
       "2  Kuala Lumpur       12958.12\n",
       "3       Jakarta       11068.60\n",
       "4     Woodlands        7489.30"
      ]
     },
     "execution_count": 14,
     "metadata": {},
     "output_type": "execute_result"
    }
   ],
   "source": [
    "round(df.groupby(['City'])['Profit Margin'].sum().sort_values(ascending = False).reset_index(), 2)"
   ]
  },
  {
   "cell_type": "markdown",
   "id": "755094ab-a437-483b-802d-9c4280dce638",
   "metadata": {},
   "source": [
    "Бачимо, що найприбутковіші міста за загальною сумою - Бєдок та Маніла."
   ]
  },
  {
   "cell_type": "markdown",
   "id": "bf572027-2eb3-4b1e-9f05-d2e3251b58fe",
   "metadata": {},
   "source": [
    "**Питання 4**\n",
    "Порахуємо загальну суму доходу з кожного міста по місяцях."
   ]
  },
  {
   "cell_type": "code",
   "execution_count": 15,
   "id": "5815bc26-7d5d-4755-a747-a1ba0efae57e",
   "metadata": {
    "tags": []
   },
   "outputs": [
    {
     "data": {
      "text/html": [
       "<div>\n",
       "<style scoped>\n",
       "    .dataframe tbody tr th:only-of-type {\n",
       "        vertical-align: middle;\n",
       "    }\n",
       "\n",
       "    .dataframe tbody tr th {\n",
       "        vertical-align: top;\n",
       "    }\n",
       "\n",
       "    .dataframe thead th {\n",
       "        text-align: right;\n",
       "    }\n",
       "</style>\n",
       "<table border=\"1\" class=\"dataframe\">\n",
       "  <thead>\n",
       "    <tr style=\"text-align: right;\">\n",
       "      <th>City</th>\n",
       "      <th>Bedok</th>\n",
       "      <th>Jakarta</th>\n",
       "      <th>Kuala Lumpur</th>\n",
       "      <th>Manila</th>\n",
       "      <th>Woodlands</th>\n",
       "    </tr>\n",
       "    <tr>\n",
       "      <th>Month</th>\n",
       "      <th></th>\n",
       "      <th></th>\n",
       "      <th></th>\n",
       "      <th></th>\n",
       "      <th></th>\n",
       "    </tr>\n",
       "  </thead>\n",
       "  <tbody>\n",
       "    <tr>\n",
       "      <th>1</th>\n",
       "      <td>1603.09</td>\n",
       "      <td>806.98</td>\n",
       "      <td>983.83</td>\n",
       "      <td>1154.33</td>\n",
       "      <td>717.86</td>\n",
       "    </tr>\n",
       "    <tr>\n",
       "      <th>2</th>\n",
       "      <td>1093.33</td>\n",
       "      <td>880.36</td>\n",
       "      <td>1102.20</td>\n",
       "      <td>1111.22</td>\n",
       "      <td>446.72</td>\n",
       "    </tr>\n",
       "    <tr>\n",
       "      <th>3</th>\n",
       "      <td>1183.87</td>\n",
       "      <td>956.61</td>\n",
       "      <td>1045.13</td>\n",
       "      <td>1257.46</td>\n",
       "      <td>528.83</td>\n",
       "    </tr>\n",
       "    <tr>\n",
       "      <th>4</th>\n",
       "      <td>1107.51</td>\n",
       "      <td>803.06</td>\n",
       "      <td>1000.02</td>\n",
       "      <td>1113.75</td>\n",
       "      <td>550.86</td>\n",
       "    </tr>\n",
       "    <tr>\n",
       "      <th>5</th>\n",
       "      <td>1076.32</td>\n",
       "      <td>994.97</td>\n",
       "      <td>1084.25</td>\n",
       "      <td>1115.44</td>\n",
       "      <td>791.26</td>\n",
       "    </tr>\n",
       "    <tr>\n",
       "      <th>6</th>\n",
       "      <td>1247.40</td>\n",
       "      <td>866.11</td>\n",
       "      <td>1067.98</td>\n",
       "      <td>1068.72</td>\n",
       "      <td>587.81</td>\n",
       "    </tr>\n",
       "    <tr>\n",
       "      <th>7</th>\n",
       "      <td>1370.07</td>\n",
       "      <td>870.74</td>\n",
       "      <td>1119.98</td>\n",
       "      <td>1207.20</td>\n",
       "      <td>649.94</td>\n",
       "    </tr>\n",
       "    <tr>\n",
       "      <th>8</th>\n",
       "      <td>1185.12</td>\n",
       "      <td>759.93</td>\n",
       "      <td>1094.37</td>\n",
       "      <td>1113.46</td>\n",
       "      <td>649.63</td>\n",
       "    </tr>\n",
       "    <tr>\n",
       "      <th>9</th>\n",
       "      <td>1015.56</td>\n",
       "      <td>1014.22</td>\n",
       "      <td>1027.56</td>\n",
       "      <td>1169.01</td>\n",
       "      <td>516.77</td>\n",
       "    </tr>\n",
       "    <tr>\n",
       "      <th>10</th>\n",
       "      <td>1026.42</td>\n",
       "      <td>951.89</td>\n",
       "      <td>1119.93</td>\n",
       "      <td>1341.88</td>\n",
       "      <td>717.04</td>\n",
       "    </tr>\n",
       "    <tr>\n",
       "      <th>11</th>\n",
       "      <td>1250.79</td>\n",
       "      <td>889.32</td>\n",
       "      <td>1008.06</td>\n",
       "      <td>1319.77</td>\n",
       "      <td>599.61</td>\n",
       "    </tr>\n",
       "    <tr>\n",
       "      <th>12</th>\n",
       "      <td>1490.13</td>\n",
       "      <td>1274.41</td>\n",
       "      <td>1304.81</td>\n",
       "      <td>1483.40</td>\n",
       "      <td>732.95</td>\n",
       "    </tr>\n",
       "  </tbody>\n",
       "</table>\n",
       "</div>"
      ],
      "text/plain": [
       "City     Bedok  Jakarta  Kuala Lumpur   Manila  Woodlands\n",
       "Month                                                    \n",
       "1      1603.09   806.98        983.83  1154.33     717.86\n",
       "2      1093.33   880.36       1102.20  1111.22     446.72\n",
       "3      1183.87   956.61       1045.13  1257.46     528.83\n",
       "4      1107.51   803.06       1000.02  1113.75     550.86\n",
       "5      1076.32   994.97       1084.25  1115.44     791.26\n",
       "6      1247.40   866.11       1067.98  1068.72     587.81\n",
       "7      1370.07   870.74       1119.98  1207.20     649.94\n",
       "8      1185.12   759.93       1094.37  1113.46     649.63\n",
       "9      1015.56  1014.22       1027.56  1169.01     516.77\n",
       "10     1026.42   951.89       1119.93  1341.88     717.04\n",
       "11     1250.79   889.32       1008.06  1319.77     599.61\n",
       "12     1490.13  1274.41       1304.81  1483.40     732.95"
      ]
     },
     "execution_count": 15,
     "metadata": {},
     "output_type": "execute_result"
    }
   ],
   "source": [
    "month_pivot = df.pivot_table(index = 'Month', columns = 'City', values = 'Profit Margin', aggfunc = 'sum')\n",
    "round(month_pivot, 2)"
   ]
  },
  {
   "cell_type": "markdown",
   "id": "a3dc1f24-5c3a-4e14-a910-47166e541a99",
   "metadata": {},
   "source": [
    "Чіткої тенденції - немає, трохи виділяється грудень (причиною може бути Різдво)."
   ]
  },
  {
   "cell_type": "markdown",
   "id": "ebdc77af-44a5-4f85-b007-84851858e87e",
   "metadata": {},
   "source": [
    "**Питання 5**\n",
    "Подивимося на чеки кожного місяця, щоб визначити чи впливає сезон."
   ]
  },
  {
   "cell_type": "code",
   "execution_count": 16,
   "id": "03a2be28-a3ed-4691-b91b-6ac8c2a89660",
   "metadata": {
    "tags": []
   },
   "outputs": [],
   "source": [
    "month_map = {1: 'January', 2: 'February', 3: 'March', 4: 'April', 5: 'May', 6: 'June', 7: 'July', 8: 'August', 9: 'September', 10: 'October', 11: 'November', 12: 'December'}\n",
    "\n",
    "bill_by_month = df.groupby('Month')['Gross Bill Amount'].sum().reset_index()\n",
    "bill_by_month['Month'] = bill_by_month['Month'].map(month_map)"
   ]
  },
  {
   "cell_type": "code",
   "execution_count": 17,
   "id": "4b1582ed-2cd6-4aa7-aa9d-d5297a6c8acf",
   "metadata": {
    "tags": []
   },
   "outputs": [
    {
     "data": {
      "image/png": "[encoded data removed]",
      "text/plain": [
       "<Figure size 640x480 with 1 Axes>"
      ]
     },
     "metadata": {},
     "output_type": "display_data"
    }
   ],
   "source": [
    "bill_by_month.set_index('Month').plot.bar();"
   ]
  },
  {
   "cell_type": "markdown",
   "id": "745f8d98-3b90-445f-80d6-0026cd26344c",
   "metadata": {},
   "source": [
    "Чіткої тенденції ми не бачимо, можу виділити тільки грудень - скоріше за все це пов'язано з Різдвом та Новим роком."
   ]
  },
  {
   "cell_type": "markdown",
   "id": "b450b28c-218d-4798-870e-3dc4b0c4b038",
   "metadata": {},
   "source": [
    "**Питання 6**\n",
    "Яка є кількість унікальних клієнтів?"
   ]
  },
  {
   "cell_type": "code",
   "execution_count": 18,
   "id": "4c4813a7-88db-482e-a288-d2961d7e69ce",
   "metadata": {
    "tags": []
   },
   "outputs": [
    {
     "name": "stdout",
     "output_type": "stream",
     "text": [
      "Кількість унікальних клієнтів: 2601\n"
     ]
    }
   ],
   "source": [
    "customers = df['Membership ID'].nunique()\n",
    "print('Кількість унікальних клієнтів:', customers)"
   ]
  },
  {
   "cell_type": "markdown",
   "id": "42c41da8-b5c7-4f88-b121-b699b0fe8def",
   "metadata": {},
   "source": [
    "**Питання 7**\n",
    "Подивимося, яка стать переважає при здійсненню покупок."
   ]
  },
  {
   "cell_type": "code",
   "execution_count": 19,
   "id": "fb7a62c5-d188-4d10-9fb7-03c4fb1636e7",
   "metadata": {
    "tags": []
   },
   "outputs": [
    {
     "data": {
      "text/html": [
       "<div>\n",
       "<style scoped>\n",
       "    .dataframe tbody tr th:only-of-type {\n",
       "        vertical-align: middle;\n",
       "    }\n",
       "\n",
       "    .dataframe tbody tr th {\n",
       "        vertical-align: top;\n",
       "    }\n",
       "\n",
       "    .dataframe thead th {\n",
       "        text-align: right;\n",
       "    }\n",
       "</style>\n",
       "<table border=\"1\" class=\"dataframe\">\n",
       "  <thead>\n",
       "    <tr style=\"text-align: right;\">\n",
       "      <th></th>\n",
       "      <th>Gender</th>\n",
       "      <th>count</th>\n",
       "    </tr>\n",
       "  </thead>\n",
       "  <tbody>\n",
       "    <tr>\n",
       "      <th>0</th>\n",
       "      <td>Female</td>\n",
       "      <td>41822</td>\n",
       "    </tr>\n",
       "    <tr>\n",
       "      <th>1</th>\n",
       "      <td>Male</td>\n",
       "      <td>8625</td>\n",
       "    </tr>\n",
       "  </tbody>\n",
       "</table>\n",
       "</div>"
      ],
      "text/plain": [
       "   Gender  count\n",
       "0  Female  41822\n",
       "1    Male   8625"
      ]
     },
     "execution_count": 19,
     "metadata": {},
     "output_type": "execute_result"
    }
   ],
   "source": [
    "df.Gender.value_counts().reset_index()"
   ]
  },
  {
   "cell_type": "code",
   "execution_count": 20,
   "id": "cf329ae3-3b5e-40bc-91f6-44701b304724",
   "metadata": {
    "tags": []
   },
   "outputs": [
    {
     "data": {
      "image/png": "[encoded data removed]",
      "text/plain": [
       "<Figure size 800x800 with 1 Axes>"
      ]
     },
     "metadata": {},
     "output_type": "display_data"
    }
   ],
   "source": [
    "df.Gender.value_counts().plot(kind = 'pie', y = 'Gender', autopct = '%1.0f%%', figsize = (8, 8))\n",
    "plt.title('Gender');"
   ]
  },
  {
   "cell_type": "markdown",
   "id": "efc9f06a-f0dd-4809-b42d-8a9737c58add",
   "metadata": {},
   "source": [
    "Бачимо, що кількість жінок суттєво переважає."
   ]
  },
  {
   "cell_type": "markdown",
   "id": "02e23488-e2c2-4fb7-9009-99795e34e881",
   "metadata": {
    "tags": []
   },
   "source": [
    "**Питання 8**\n",
    "Подивимося, який вік жінок найплатоспроможніший."
   ]
  },
  {
   "cell_type": "code",
   "execution_count": 21,
   "id": "836324ea-40f2-4937-9096-cbfb403f1b3c",
   "metadata": {
    "tags": []
   },
   "outputs": [],
   "source": [
    "female_sorted = df[df['Gender'] == 'Female'].groupby('Age')['Gross Bill Amount'].sum()"
   ]
  },
  {
   "cell_type": "code",
   "execution_count": 22,
   "id": "6f94fab4-0ac4-40b3-a993-e1b6fef25a0f",
   "metadata": {
    "tags": []
   },
   "outputs": [
    {
     "data": {
      "image/png": "[encoded data removed]",
      "text/plain": [
       "<Figure size 640x480 with 1 Axes>"
      ]
     },
     "metadata": {},
     "output_type": "display_data"
    }
   ],
   "source": [
    "female_sorted.plot( )\n",
    "plt.ylabel('Gross Bill Amount') \n",
    "plt.title('Gross Bill Amount by Women Age') \n",
    "plt.show();"
   ]
  },
  {
   "cell_type": "markdown",
   "id": "637d6b19-7380-48be-8bf0-0c33ff120a68",
   "metadata": {},
   "source": [
    "Бачимо на графіку, що сума чеків середньої вікової категорії набагато вищі за старшу категорію."
   ]
  },
  {
   "cell_type": "markdown",
   "id": "007f1585-1535-40f1-9afe-5e91756b3435",
   "metadata": {},
   "source": [
    "**Питання 9** Згрупуємо жінок по групам та подивимося, скільки прибутку приносить кожнна категорія та як він відрізняється."
   ]
  },
  {
   "cell_type": "code",
   "execution_count": 23,
   "id": "2f6cc076-bf6c-45c8-a9a0-5699d8944b51",
   "metadata": {
    "tags": []
   },
   "outputs": [],
   "source": [
    "# створимо 3 вікові групи\n",
    "bins = [0, 25, 55, 100]\n",
    "labels = ['young', 'adult', 'old']\n",
    "df['Age_bin'] = pd.cut(df['Age'], bins, labels = labels)"
   ]
  },
  {
   "cell_type": "code",
   "execution_count": 24,
   "id": "d8cbc8e5-75f7-426a-b83c-22d73c5b4129",
   "metadata": {
    "tags": []
   },
   "outputs": [],
   "source": [
    "# внесемо для зручності та логічній послідовності нову колонку Age_bin одразу після Age \n",
    "df = df[['Receipt Number', 'Date', 'Year', 'Month', 'Time', 'Mobile Number',\n",
    "       'Membership ID', 'Loyalty Card Points', 'Age', 'Age_bin', 'Gender', 'City',\n",
    "       'Country', 'Category', 'Sub_Category', 'Items', 'Brand ',\n",
    "       'Description ', 'Price', 'QTY', 'DISC', 'Amount', 'Net Bill Amount',\n",
    "       'GST', 'Gross Bill Amount', 'Payment Mode', 'Bank Name',\n",
    "       '% Profit Margin', '% Operating Cost', '% Product Cost',\n",
    "       'Profit Margin', 'Operating Cost', 'Product Cost']]"
   ]
  },
  {
   "cell_type": "code",
   "execution_count": 25,
   "id": "0ee797b7-3680-4ddc-b501-027b77dd7d17",
   "metadata": {
    "tags": []
   },
   "outputs": [
    {
     "data": {
      "image/png": "[encoded data removed]",
      "text/plain": [
       "<Figure size 640x480 with 1 Axes>"
      ]
     },
     "metadata": {},
     "output_type": "display_data"
    }
   ],
   "source": [
    "df[df['Gender'] == 'Female'].groupby('Age_bin')['Profit Margin'].sum().plot.bar()\n",
    "plt.ylabel('Profit Margin')\n",
    "plt.xlabel('Age Category') \n",
    "plt.title('Profit Margin by Women Age Category') \n",
    "plt.show();"
   ]
  },
  {
   "cell_type": "markdown",
   "id": "10b5e647-f34c-4857-b891-289cdd88aa95",
   "metadata": {},
   "source": [
    "Наглядно бачимо, що найбільший прибуток приносять жінки категорії 25-55 років. Тобто це наша цільова аудиторія, цікаво було б проаналізувати також категорії, які лідують у цій віковій групи та націлити рекламну кампанію.\n",
    "З іншої сторони - цікаво дослідити категорію оld, щоб зрозуміти як можна покращити прибуток з цієї категорії, можливо треба додати нові товари, які б привабили цю категорію."
   ]
  },
  {
   "cell_type": "markdown",
   "id": "41685d63-3e23-4b5f-b3a5-4a758d0cf1db",
   "metadata": {},
   "source": [
    "**Питання 10**\n",
    "Подивимося, який спосіб оплати використовують клієнти."
   ]
  },
  {
   "cell_type": "code",
   "execution_count": 26,
   "id": "6a0fa21b-86ca-4574-9e1b-8521f79a454d",
   "metadata": {
    "tags": []
   },
   "outputs": [
    {
     "data": {
      "text/html": [
       "<div>\n",
       "<style scoped>\n",
       "    .dataframe tbody tr th:only-of-type {\n",
       "        vertical-align: middle;\n",
       "    }\n",
       "\n",
       "    .dataframe tbody tr th {\n",
       "        vertical-align: top;\n",
       "    }\n",
       "\n",
       "    .dataframe thead th {\n",
       "        text-align: right;\n",
       "    }\n",
       "</style>\n",
       "<table border=\"1\" class=\"dataframe\">\n",
       "  <thead>\n",
       "    <tr style=\"text-align: right;\">\n",
       "      <th></th>\n",
       "      <th>Payment Mode</th>\n",
       "      <th>count</th>\n",
       "    </tr>\n",
       "  </thead>\n",
       "  <tbody>\n",
       "    <tr>\n",
       "      <th>0</th>\n",
       "      <td>Card</td>\n",
       "      <td>17149</td>\n",
       "    </tr>\n",
       "    <tr>\n",
       "      <th>1</th>\n",
       "      <td>Wallet</td>\n",
       "      <td>16867</td>\n",
       "    </tr>\n",
       "    <tr>\n",
       "      <th>2</th>\n",
       "      <td>Cash</td>\n",
       "      <td>16431</td>\n",
       "    </tr>\n",
       "  </tbody>\n",
       "</table>\n",
       "</div>"
      ],
      "text/plain": [
       "  Payment Mode  count\n",
       "0         Card  17149\n",
       "1       Wallet  16867\n",
       "2         Cash  16431"
      ]
     },
     "execution_count": 26,
     "metadata": {},
     "output_type": "execute_result"
    }
   ],
   "source": [
    "df['Payment Mode'].value_counts().reset_index()"
   ]
  },
  {
   "cell_type": "markdown",
   "id": "d50aa170-7d83-496b-830d-2bd66b3b8df7",
   "metadata": {},
   "source": [
    "**Питання 11**\n",
    "Які каткгорії товарів є найбільш популярними в магазині?"
   ]
  },
  {
   "cell_type": "code",
   "execution_count": 27,
   "id": "6c26b7cf-15e0-4e18-862d-ccb55bb68de6",
   "metadata": {
    "tags": []
   },
   "outputs": [
    {
     "data": {
      "text/plain": [
       "Category\n",
       "Bakery & Breakfast           6770\n",
       "Frozen                       6393\n",
       "Beauty                       5205\n",
       "Fruit & Vegetable            4370\n",
       "Pet Care                     3465\n",
       "Dairy, Chilled & Eggs        3381\n",
       "Choco, Snacks, Sweets        3019\n",
       "Kitchen & Dining             2552\n",
       "Rice & Cooking Essentials    2432\n",
       "Beverages                    2208\n",
       "Name: count, dtype: int64"
      ]
     },
     "execution_count": 27,
     "metadata": {},
     "output_type": "execute_result"
    }
   ],
   "source": [
    "df.Category.value_counts()[:10]"
   ]
  },
  {
   "cell_type": "markdown",
   "id": "7a078306-a101-441f-802f-75e8a4e5adaf",
   "metadata": {},
   "source": [
    "Бачимо, що лідує категорія Bakery & Breakfast та Frozen."
   ]
  },
  {
   "cell_type": "markdown",
   "id": "9affd40e-eb9e-4e4e-992c-139b87463368",
   "metadata": {
    "tags": []
   },
   "source": [
    "**Питання 12**\n",
    "Дослідимо, підкатегорію у найпопулярнішій категорії Bakery & Breakfast."
   ]
  },
  {
   "cell_type": "code",
   "execution_count": 28,
   "id": "9750b4a1-36bc-418f-9ae5-075448f590b6",
   "metadata": {
    "tags": []
   },
   "outputs": [
    {
     "data": {
      "text/plain": [
       "Sub_Category\n",
       "Fresh Bread              1608\n",
       "Sliced Bread             1066\n",
       "Pastries & Treats        1048\n",
       "Oatmeals                 1030\n",
       "Cereal & Protein Bars    1015\n",
       "Jams, Honey & Spreads    1003\n",
       "Name: count, dtype: int64"
      ]
     },
     "execution_count": 28,
     "metadata": {},
     "output_type": "execute_result"
    }
   ],
   "source": [
    "df[df.Category == 'Bakery & Breakfast']['Sub_Category'].value_counts(ascending = False)"
   ]
  },
  {
   "cell_type": "markdown",
   "id": "ca982eb2-af36-4f1f-ba28-034e34c6a021",
   "metadata": {},
   "source": [
    "**Питання 13** Знайдіть товар, який був куплений у найбільшій кількості в датафреймі у найпопулярнішій категорії Bakery & Breakfast."
   ]
  },
  {
   "cell_type": "code",
   "execution_count": 29,
   "id": "1a8f347e-7cf0-490e-8cb0-7ab9db506e88",
   "metadata": {
    "tags": []
   },
   "outputs": [
    {
     "data": {
      "text/plain": [
       "Items\n",
       "Original wholemeal bread    957\n",
       "Name: QTY, dtype: int64"
      ]
     },
     "execution_count": 29,
     "metadata": {},
     "output_type": "execute_result"
    }
   ],
   "source": [
    "df[df.Category == 'Bakery & Breakfast'].groupby('Items')['QTY'].sum().sort_values(ascending = False)[:1]"
   ]
  },
  {
   "cell_type": "markdown",
   "id": "662dbaa6-e396-4061-8f21-c3d8b6f764e2",
   "metadata": {},
   "source": [
    "**Питання 14** Проведемо z-test, щоб зрозуміти чи відрізняється прибуток з двох підкатегорій Sliced Bread та Pastries & Treats."
   ]
  },
  {
   "cell_type": "code",
   "execution_count": 30,
   "id": "5421b59e-98c1-4cfc-a3ae-110ced75d725",
   "metadata": {
    "tags": []
   },
   "outputs": [],
   "source": [
    "sliced_bread = df[df.Sub_Category == 'Sliced Bread'].pivot_table(index = 'Receipt Number', values = 'Profit Margin', aggfunc = 'sum').values"
   ]
  },
  {
   "cell_type": "code",
   "execution_count": 31,
   "id": "afc249f0-634b-4d68-ac61-5ede5e63f98e",
   "metadata": {
    "tags": []
   },
   "outputs": [],
   "source": [
    "pastries_treats = df[df.Sub_Category == 'Pastries & Treats'].pivot_table(index = 'Receipt Number', values = 'Profit Margin', aggfunc = 'sum').values"
   ]
  },
  {
   "cell_type": "code",
   "execution_count": 32,
   "id": "09bd761c-4b93-4e32-a8fd-7d6b8eabd94c",
   "metadata": {
    "tags": []
   },
   "outputs": [
    {
     "name": "stdout",
     "output_type": "stream",
     "text": [
      "Z-test\n",
      "Статистика тесту: [14.15501517]\n",
      "p-значення: [1.73900213e-45]\n"
     ]
    }
   ],
   "source": [
    "#Нульоваа гіпотеза H0 - прибуток з підкатегорії sliced_bread та підкатегорії pastries_treats - однаковий.\n",
    "#Альтернативна гіпотеза - прибуток відрізняється.\n",
    "from statsmodels.stats.weightstats import ztest\n",
    "alpha = 0.05\n",
    "stat, p_value = ztest(sliced_bread, pastries_treats, value = 0)\n",
    "print(\"Z-test\")\n",
    "print(\"Статистика тесту:\", stat)\n",
    "print(\"p-значення:\", p_value)"
   ]
  },
  {
   "cell_type": "code",
   "execution_count": 33,
   "id": "c17aa9bb-1943-45e0-8cbf-3c2c566b2512",
   "metadata": {
    "tags": []
   },
   "outputs": [
    {
     "name": "stdout",
     "output_type": "stream",
     "text": [
      "За результатами Z-test відхиляємо H0.\n"
     ]
    }
   ],
   "source": [
    "if p_value > alpha:\n",
    "    print(\"За результатами Z-test ми не можемо відхилити H0.\")\n",
    "else:\n",
    "    print(\"За результатами Z-test відхиляємо H0.\")"
   ]
  },
  {
   "cell_type": "markdown",
   "id": "3b8f6214-4617-4691-9cbc-52b1643473dc",
   "metadata": {},
   "source": [
    "Задаємо рівень стат. значущості як 5%. Статистика для двох вибірок z-критерію становить 14.155, а відповідне p-value дорівнює 1.73900213e-45. Оскільки p-value < 0.05, то ми відхиляємо нульову гіпотезу. Іншими словами, прибуток відрізняється."
   ]
  },
  {
   "cell_type": "code",
   "execution_count": 34,
   "id": "e7c43402-3918-4382-b106-4a78eb8ee08e",
   "metadata": {
    "tags": []
   },
   "outputs": [
    {
     "name": "stdout",
     "output_type": "stream",
     "text": [
      "Прибуток з підкатегорії sliced_bread - 1237.28.\n",
      "Прибуток з підкатегорії pastries_treats - 801.47.\n"
     ]
    }
   ],
   "source": [
    "print(f'Прибуток з підкатегорії sliced_bread - {{:.2f}}.\\nПрибуток з підкатегорії pastries_treats - {{:.2f}}.'.format(sliced_bread.sum(), pastries_treats.sum()))"
   ]
  },
  {
   "cell_type": "markdown",
   "id": "f3154241-cfec-4944-ac0e-c3d655082300",
   "metadata": {},
   "source": [
    "**Cистемa метрик/Tableau репорт**\n",
    "\n",
    "Нас цікавить дохід(маржа), який компанія отримує з країни/міста. Дослідимо тенденцію прибутку по роках, подивимося на кореляцію. Цікаво буде порахувати, який відсоток доходу формує кожне окреме місто. Також цікаво подивитися в порівнянні країни, щоб зрозуміти, де відкривати наступні філіали, також проаналізуємо, які категорії краще розвивати по яким містам, які з них є найприбутковішими і навпаки.\n",
    "\n",
    "Систему метрик можна знайти за посиланням:\n",
    "https://docs.google.com/document/d/1mhuNltPZb8mX3o5qjSwfeZtX0ghg9bHTeLcq3zUDQxg/edit?usp=sharing\n",
    "\n",
    "Візуалізацію у вигляді інтерактивного репорту даних можна знайти за посиланням:\n",
    "https://public.tableau.com/app/profile/maryna.danets/viz/ProfitMargin_17212539303290/ProfitMargin"
   ]
  },
  {
   "cell_type": "code",
   "execution_count": null,
   "id": "3601ece9-8eee-4cbb-abfd-ba970e7773b5",
   "metadata": {},
   "outputs": [],
   "source": []
  }
 ],
 "metadata": {
  "kernelspec": {
   "display_name": "Python 3 (ipykernel)",
   "language": "python",
   "name": "python3"
  },
  "language_info": {
   "codemirror_mode": {
    "name": "ipython",
    "version": 3
   },
   "file_extension": ".py",
   "mimetype": "text/x-python",
   "name": "python",
   "nbconvert_exporter": "python",
   "pygments_lexer": "ipython3",
   "version": "3.11.5"
  },
  "toc": {
   "base_numbering": 1,
   "nav_menu": {},
   "number_sections": true,
   "sideBar": true,
   "skip_h1_title": false,
   "title_cell": "Table of Contents",
   "title_sidebar": "Contents",
   "toc_cell": false,
   "toc_position": {},
   "toc_section_display": true,
   "toc_window_display": false
  }
 },
 "nbformat": 4,
 "nbformat_minor": 5
}
