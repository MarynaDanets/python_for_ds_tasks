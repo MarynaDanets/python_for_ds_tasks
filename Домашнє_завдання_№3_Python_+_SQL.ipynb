{
 "cells": [
  {
   "cell_type": "markdown",
   "id": "2153041f",
   "metadata": {
    "id": "2153041f"
   },
   "source": [
    "# Завдання на використання SQL в Python"
   ]
  },
  {
   "cell_type": "markdown",
   "id": "2c1af6e1",
   "metadata": {
    "ExecuteTime": {
     "end_time": "2022-11-27T18:04:46.316592Z",
     "start_time": "2022-11-27T18:04:46.302021Z"
    },
    "id": "2c1af6e1"
   },
   "source": [
    "1.Встановіть бібліотеку `mysql-connector-python` через pip aбо через conda."
   ]
  },
  {
   "cell_type": "code",
   "execution_count": 1,
   "id": "a8fcd64e",
   "metadata": {
    "id": "a8fcd64e"
   },
   "outputs": [
    {
     "name": "stdout",
     "output_type": "stream",
     "text": [
      "Requirement already satisfied: mysql-connector-python in d:\\downloads\\installpack_downloads\\anaconda3\\lib\\site-packages (8.4.0)\n"
     ]
    }
   ],
   "source": [
    "!pip install mysql-connector-python"
   ]
  },
  {
   "cell_type": "code",
   "execution_count": 2,
   "id": "e184049d-2960-42cc-98f8-314670a35c51",
   "metadata": {
    "tags": []
   },
   "outputs": [],
   "source": [
    "import mysql.connector\n",
    "from mysql.connector.connection import MySQLConnection\n",
    "import datetime"
   ]
  },
  {
   "cell_type": "markdown",
   "id": "eec5551e",
   "metadata": {
    "id": "eec5551e",
    "pycharm": {
     "name": "#%% md\n"
    }
   },
   "source": [
    "2.В змінній `con` створіть підключення до бази даних employees за аналогією того, як це робилось в лекції:"
   ]
  },
  {
   "cell_type": "code",
   "execution_count": 3,
   "id": "e3fff0d8",
   "metadata": {
    "id": "e3fff0d8"
   },
   "outputs": [],
   "source": [
    "con = mysql.connector.connect(user='user1', password='7oygWy6P',\n",
    "                              host='3.68.62.36',\n",
    "                              database='employees')"
   ]
  },
  {
   "cell_type": "markdown",
   "id": "8b17a588",
   "metadata": {
    "ExecuteTime": {
     "end_time": "2022-01-26T22:23:01.406330Z",
     "start_time": "2022-01-26T22:23:01.403942Z"
    },
    "id": "8b17a588",
    "pycharm": {
     "name": "#%% md\n"
    }
   },
   "source": [
    "3.Виберіть максимальну і мінімальну дати найму співробітників використовуючи `con.cursor()`. Аби отримати результати в кінці, виконайте `cursor.fetchall()`."
   ]
  },
  {
   "cell_type": "code",
   "execution_count": 4,
   "id": "2d9785de",
   "metadata": {
    "id": "2d9785de"
   },
   "outputs": [],
   "source": [
    "cursor = con.cursor()"
   ]
  },
  {
   "cell_type": "code",
   "execution_count": 5,
   "id": "007d1d44-bde9-4e3d-8c0b-0acadb8edad1",
   "metadata": {
    "tags": []
   },
   "outputs": [],
   "source": [
    "sql = \"\"\"\n",
    "SELECT MAX(hire_date), MIN(hire_date)\n",
    "FROM employees\n",
    "\"\"\""
   ]
  },
  {
   "cell_type": "code",
   "execution_count": 6,
   "id": "700f5074-4fe4-4be3-b0f2-83ce260d7119",
   "metadata": {
    "tags": []
   },
   "outputs": [],
   "source": [
    "cursor.execute(sql)"
   ]
  },
  {
   "cell_type": "code",
   "execution_count": 7,
   "id": "12535ce7-b500-48d0-a5b9-b9805e3412a4",
   "metadata": {
    "tags": []
   },
   "outputs": [
    {
     "data": {
      "text/plain": [
       "[(datetime.date(2000, 1, 28), datetime.date(1985, 1, 1))]"
      ]
     },
     "execution_count": 7,
     "metadata": {},
     "output_type": "execute_result"
    }
   ],
   "source": [
    "cursor.fetchall()"
   ]
  },
  {
   "cell_type": "markdown",
   "id": "955dd2fa",
   "metadata": {
    "ExecuteTime": {
     "end_time": "2022-11-27T18:11:33.491134Z",
     "start_time": "2022-11-27T18:11:33.486973Z"
    },
    "id": "955dd2fa"
   },
   "source": [
    "Очікуваний результат:  \n",
    "    `[(datetime.date(2000, 1, 28), datetime.date(1985, 1, 1))]`"
   ]
  },
  {
   "cell_type": "markdown",
   "id": "1d9c214d",
   "metadata": {
    "ExecuteTime": {
     "end_time": "2023-07-14T15:52:49.876166Z",
     "start_time": "2023-07-14T15:52:49.855548Z"
    },
    "id": "1d9c214d"
   },
   "source": [
    "4.Давайте зберемо інформацію про останню ЗП кожного співробіткника в базі. З використанням `con.cursor()` виберіть з таблиці `salaries` для кожного співробітника його номер, останню в базі даних (тобто ту, що відповідає найновішій `to_date`) ЗП, та значення `from_date`, `to_date` для цієї ЗП.\n",
    "\n",
    "Результати запишіть у pandas DataFrame, який збережіть у змінну `res`. Як взяти з курсора назви колонок - вже наведено. На екран виведіть назви колонок в змінній `res`, розмір цього датафрейму та перші 3 записи в ньому.\n",
    "\n",
    "УВАГА! Зверніть увагу, що ЗП може оновлюватись протягом одного дня, тобто є випадки, коли апдейт ЗП був в певний день, скажімо 2001-01-01 і потім стався ще один апдейт ЗП цьому співробітнику цього самого дня. Запит має це враховувати.\n",
    "Також, теоретично ЗП може бути зменшена. Тож, брати дату з максимальною ЗП буде неправильно з точки зору бізнес логіки. Треба саме останнє історичне значення ЗП кожного співробітника."
   ]
  },
  {
   "cell_type": "code",
   "execution_count": 8,
   "id": "f326ba43",
   "metadata": {
    "id": "f326ba43"
   },
   "outputs": [],
   "source": [
    "cursor = con.cursor()\n",
    "sql = \"\"\"\n",
    "SELECT s.emp_no, s.salary, s.from_date, s.to_date FROM salaries as s\n",
    "INNER JOIN (\n",
    "  SELECT emp_no, max(to_date) as max FROM salaries\n",
    "  GROUP BY emp_no\n",
    ") AS p ON s.to_date = p.max AND s.emp_no = p.emp_no;\n",
    "\"\"\""
   ]
  },
  {
   "cell_type": "code",
   "execution_count": 9,
   "id": "aa513759-4969-4982-a541-733b2a8a9d96",
   "metadata": {
    "tags": []
   },
   "outputs": [],
   "source": [
    "cursor.execute(sql)"
   ]
  },
  {
   "cell_type": "code",
   "execution_count": 10,
   "id": "bf5eb14d",
   "metadata": {
    "ExecuteTime": {
     "end_time": "2023-07-14T16:14:15.617144Z",
     "start_time": "2023-07-14T16:14:15.611369Z"
    },
    "id": "bf5eb14d"
   },
   "outputs": [],
   "source": [
    "field_names = [i[0] for i in cursor.description]"
   ]
  },
  {
   "cell_type": "code",
   "execution_count": 11,
   "id": "27b13392-5ec7-4518-97a1-f5e6cdbf8dd0",
   "metadata": {
    "tags": []
   },
   "outputs": [],
   "source": [
    "import pandas as pd"
   ]
  },
  {
   "cell_type": "code",
   "execution_count": 12,
   "id": "94dac051-682d-42de-be66-3e6d04e330fa",
   "metadata": {
    "tags": []
   },
   "outputs": [],
   "source": [
    "res = pd.DataFrame(cursor.fetchall(), columns = field_names)"
   ]
  },
  {
   "cell_type": "code",
   "execution_count": 13,
   "id": "a63746a4-0a9d-4276-b44b-21d0a9a03b75",
   "metadata": {
    "tags": []
   },
   "outputs": [
    {
     "data": {
      "text/html": [
       "<div>\n",
       "<style scoped>\n",
       "    .dataframe tbody tr th:only-of-type {\n",
       "        vertical-align: middle;\n",
       "    }\n",
       "\n",
       "    .dataframe tbody tr th {\n",
       "        vertical-align: top;\n",
       "    }\n",
       "\n",
       "    .dataframe thead th {\n",
       "        text-align: right;\n",
       "    }\n",
       "</style>\n",
       "<table border=\"1\" class=\"dataframe\">\n",
       "  <thead>\n",
       "    <tr style=\"text-align: right;\">\n",
       "      <th></th>\n",
       "      <th>emp_no</th>\n",
       "      <th>salary</th>\n",
       "      <th>from_date</th>\n",
       "      <th>to_date</th>\n",
       "    </tr>\n",
       "  </thead>\n",
       "  <tbody>\n",
       "    <tr>\n",
       "      <th>0</th>\n",
       "      <td>10001</td>\n",
       "      <td>88958</td>\n",
       "      <td>2002-06-22</td>\n",
       "      <td>9999-01-01</td>\n",
       "    </tr>\n",
       "    <tr>\n",
       "      <th>1</th>\n",
       "      <td>10002</td>\n",
       "      <td>72527</td>\n",
       "      <td>2001-08-02</td>\n",
       "      <td>9999-01-01</td>\n",
       "    </tr>\n",
       "    <tr>\n",
       "      <th>2</th>\n",
       "      <td>10003</td>\n",
       "      <td>43311</td>\n",
       "      <td>2001-12-01</td>\n",
       "      <td>9999-01-01</td>\n",
       "    </tr>\n",
       "  </tbody>\n",
       "</table>\n",
       "</div>"
      ],
      "text/plain": [
       "   emp_no  salary   from_date     to_date\n",
       "0   10001   88958  2002-06-22  9999-01-01\n",
       "1   10002   72527  2001-08-02  9999-01-01\n",
       "2   10003   43311  2001-12-01  9999-01-01"
      ]
     },
     "execution_count": 13,
     "metadata": {},
     "output_type": "execute_result"
    }
   ],
   "source": [
    "res.head(3)"
   ]
  },
  {
   "cell_type": "code",
   "execution_count": 14,
   "id": "6bb39f58-24bc-41d1-8634-ec27bd580ce7",
   "metadata": {
    "tags": []
   },
   "outputs": [
    {
     "data": {
      "text/plain": [
       "(300180, 4)"
      ]
     },
     "metadata": {},
     "output_type": "display_data"
    },
    {
     "data": {
      "text/plain": [
       "Index(['emp_no', 'salary', 'from_date', 'to_date'], dtype='object')"
      ]
     },
     "metadata": {},
     "output_type": "display_data"
    }
   ],
   "source": [
    "display(res.shape, res.columns)"
   ]
  },
  {
   "cell_type": "markdown",
   "id": "fb5676cb",
   "metadata": {
    "id": "fb5676cb"
   },
   "source": [
    "Очікуваний результат:\n",
    "\n",
    "![](https://drive.google.com/uc?export=view&id=1lNvzbAebtkj3C2v-I5AE6HkMH8MTI1kA)"
   ]
  },
  {
   "cell_type": "markdown",
   "id": "e5770b56",
   "metadata": {
    "ExecuteTime": {
     "end_time": "2023-07-14T16:17:31.638485Z",
     "start_time": "2023-07-14T16:17:31.632827Z"
    },
    "id": "e5770b56"
   },
   "source": [
    "5.В утвореній вибірці в змінній `res` скільки значень `to_date` рівні `9999-01-01`, а скільки - ні? Увага! Для виконання цього завдання важливо розуміти, який тип даних у значень колонки `to_date`. Зʼясуйте це, і потім напишіть фільтр для виводу потрібного результату."
   ]
  },
  {
   "cell_type": "code",
   "execution_count": 15,
   "id": "dc6e4d04-36b8-4f4d-a9c6-2ada7b94df3f",
   "metadata": {
    "tags": []
   },
   "outputs": [],
   "source": [
    "res['to_date'] = res['to_date'].astype(str)"
   ]
  },
  {
   "cell_type": "code",
   "execution_count": 16,
   "id": "e4e057f5-ebc9-48bd-9901-49b3c86f3c08",
   "metadata": {
    "tags": []
   },
   "outputs": [
    {
     "data": {
      "text/plain": [
       "240124"
      ]
     },
     "execution_count": 16,
     "metadata": {},
     "output_type": "execute_result"
    }
   ],
   "source": [
    "res.to_date[res.to_date == '9999-01-01'].count()"
   ]
  },
  {
   "cell_type": "code",
   "execution_count": 17,
   "id": "bf94d07b-f4c3-4f68-a22c-c72159018308",
   "metadata": {
    "tags": []
   },
   "outputs": [
    {
     "data": {
      "text/plain": [
       "60056"
      ]
     },
     "execution_count": 17,
     "metadata": {},
     "output_type": "execute_result"
    }
   ],
   "source": [
    "res.to_date[res.to_date != '9999-01-01'].count()"
   ]
  },
  {
   "cell_type": "markdown",
   "id": "ae22c37a",
   "metadata": {
    "id": "ae22c37a"
   },
   "source": [
    "6.Виведіть візуально розподіл (гістограму) зарплат співробітників, які досі працюють в компанії, використовуючи результат попереднього завдання. Співробітниками, які досі працюють в компанії вважаємо тих, в кого to_date має значення 9999-01-01. Обовʼязково підпишіть графік і вісі.\n",
    "\n",
    "Ці три завдання - приклад, як нам може бути зручно витягнути дані з бази певним запитом, а потім використати витягнуту вибірку у Python для подальшого аналізу."
   ]
  },
  {
   "cell_type": "code",
   "execution_count": 18,
   "id": "ddca1a4d-1a2e-49e5-b1e4-9203e7f00dbe",
   "metadata": {
    "tags": []
   },
   "outputs": [],
   "source": [
    "import matplotlib.pyplot as plt"
   ]
  },
  {
   "cell_type": "code",
   "execution_count": 19,
   "id": "af66ceda-6556-4228-b2bf-f1f7e5737837",
   "metadata": {
    "tags": []
   },
   "outputs": [
    {
     "data": {
      "image/png": "[encoded data removed]",
      "text/plain": [
       "<Figure size 640x480 with 1 Axes>"
      ]
     },
     "metadata": {},
     "output_type": "display_data"
    }
   ],
   "source": [
    "res[res.to_date == '9999-01-01'].salary.plot.hist()\n",
    "plt.grid(axis='both', alpha=.3)\n",
    "plt.title('Розподіл поточних зарплат в компанії')\n",
    "plt.xlabel('Розмір ЗП')\n",
    "plt.ylabel('Кількість співробітників з такою ЗП')\n",
    "plt.show();"
   ]
  },
  {
   "cell_type": "markdown",
   "id": "AL26SP3WMJiX",
   "metadata": {
    "id": "AL26SP3WMJiX"
   },
   "source": [
    "Очікуваний результат:\n",
    "\n",
    "![](https://drive.google.com/uc?export=view&id=1j8MHLC1E0revbQLM9B0UJs6tVEgoWhmK)"
   ]
  },
  {
   "cell_type": "markdown",
   "id": "Cp_JpGPpKmzp",
   "metadata": {
    "id": "Cp_JpGPpKmzp"
   },
   "source": [
    "НЕ ЗАБУВАЄМО ЗАКРИТИ ПІДКЛЮЧЕННЯ ДО БАЗИ :)"
   ]
  },
  {
   "cell_type": "code",
   "execution_count": 20,
   "id": "WEMo9bl6KnMh",
   "metadata": {
    "id": "WEMo9bl6KnMh"
   },
   "outputs": [],
   "source": [
    "con.close()"
   ]
  }
 ],
 "metadata": {
  "colab": {
   "provenance": []
  },
  "kernelspec": {
   "display_name": "Python 3 (ipykernel)",
   "language": "python",
   "name": "python3"
  },
  "language_info": {
   "codemirror_mode": {
    "name": "ipython",
    "version": 3
   },
   "file_extension": ".py",
   "mimetype": "text/x-python",
   "name": "python",
   "nbconvert_exporter": "python",
   "pygments_lexer": "ipython3",
   "version": "3.11.5"
  },
  "toc": {
   "base_numbering": 1,
   "nav_menu": {},
   "number_sections": true,
   "sideBar": true,
   "skip_h1_title": false,
   "title_cell": "Table of Contents",
   "title_sidebar": "Contents",
   "toc_cell": false,
   "toc_position": {},
   "toc_section_display": true,
   "toc_window_display": false
  },
  "vscode": {
   "interpreter": {
    "hash": "a6511e6b41b26ba86cca7483749cf4dd15bf137a2672e550741a656e19bba82e"
   }
  }
 },
 "nbformat": 4,
 "nbformat_minor": 5
}
