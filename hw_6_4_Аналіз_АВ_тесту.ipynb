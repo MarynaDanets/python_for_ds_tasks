{
 "cells": [
  {
   "cell_type": "markdown",
   "metadata": {
    "id": "e411f482"
   },
   "source": [
    "## Аналіз A/B тесту"
   ]
  },
  {
   "cell_type": "markdown",
   "metadata": {
    "ExecuteTime": {
     "end_time": "2022-12-10T17:43:42.137588Z",
     "start_time": "2022-12-10T17:43:42.124712Z"
    },
    "id": "f41183ed"
   },
   "source": [
    "Маємо проаналізувати дані A/B тесту в популярній [грі Cookie Cats](https://www.facebook.com/cookiecatsgame). Це класична гра-головоломка в стилі «з’єднай три», де гравець повинен з’єднати плитки одного кольору, щоб очистити дошку та виграти рівень. На дошці також зображені співаючі котики :)\n",
    "\n",
    "Під час проходження гри гравці стикаються з воротами, які змушують їх чекати деякий час, перш ніж вони зможуть прогресувати або зробити покупку в додатку. У цьому блоці завдань ми проаналізуємо результати A/B тесту, коли перші ворота в Cookie Cats було переміщено з рівня 30 на рівень 40. Зокрема, ми проаналізуємо вплив на утримання (retention) гравців. Тобто хочемо зрозуміти чи переміщення воріт на 10 рівнів пізніше якимось чином вплинуло на те, що користувачі перестають грати в гру раніше чи пізніше з точки зору кількості їх днів з моменту встановлення гри.\n",
    "\n",
    "Будемо працювати з даними з файлу `cookie_cats.csv`. Змінні в даних наступні:\n",
    "\n",
    "- userid - унікальний номер, який ідентифікує кожного гравця.\n",
    "- version - чи потрапив гравець в контрольну групу (gate_30 - ворота на 30 рівні) чи тестову групу (gate_40 - ворота на 40 рівні).\n",
    "- sum_gamerounds - кількість ігрових раундів, зіграних гравцем протягом першого тижня після встановлення\n",
    "- retention_1 - чи через 1 день після встановлення гравець повернувся і почав грати?\n",
    "- retention_7 - чи через 7 днів після встановлення гравець повернувся і почав грати?\n",
    "\n",
    "Коли гравець встановлював гру, його випадковим чином призначали до групи gate_30 або gate_40."
   ]
  },
  {
   "cell_type": "code",
   "execution_count": 1,
   "metadata": {
    "tags": []
   },
   "outputs": [],
   "source": [
    "import numpy as np\n",
    "import pandas as pd\n",
    "import scipy.stats as stats\n",
    "import statsmodels.stats.api as sms\n",
    "import matplotlib as mpl\n",
    "import matplotlib.pyplot as plt\n",
    "import seaborn as sns\n",
    "from math import ceil\n",
    "\n",
    "%matplotlib inline"
   ]
  },
  {
   "cell_type": "markdown",
   "metadata": {
    "id": "22f03df4"
   },
   "source": [
    "1. Зчитайте дані АВ тесту у змінну `df` та виведіть середнє значення показника показник `retention_7` (утримання на 7 день) по версіям гри. Сформулюйте гіпотезу: яка версія дає краще утримання через 7 днів після встановлення гри?"
   ]
  },
  {
   "cell_type": "code",
   "execution_count": 2,
   "metadata": {
    "id": "MVzMTs-jh22b",
    "tags": []
   },
   "outputs": [],
   "source": [
    "df = pd.read_csv('../data/cookie_cats.csv.')"
   ]
  },
  {
   "cell_type": "code",
   "execution_count": 3,
   "metadata": {
    "tags": []
   },
   "outputs": [
    {
     "data": {
      "text/html": [
       "<div>\n",
       "<style scoped>\n",
       "    .dataframe tbody tr th:only-of-type {\n",
       "        vertical-align: middle;\n",
       "    }\n",
       "\n",
       "    .dataframe tbody tr th {\n",
       "        vertical-align: top;\n",
       "    }\n",
       "\n",
       "    .dataframe thead th {\n",
       "        text-align: right;\n",
       "    }\n",
       "</style>\n",
       "<table border=\"1\" class=\"dataframe\">\n",
       "  <thead>\n",
       "    <tr style=\"text-align: right;\">\n",
       "      <th></th>\n",
       "      <th>mean</th>\n",
       "      <th>count</th>\n",
       "    </tr>\n",
       "    <tr>\n",
       "      <th>version</th>\n",
       "      <th></th>\n",
       "      <th></th>\n",
       "    </tr>\n",
       "  </thead>\n",
       "  <tbody>\n",
       "    <tr>\n",
       "      <th>gate_30</th>\n",
       "      <td>0.190201</td>\n",
       "      <td>44700</td>\n",
       "    </tr>\n",
       "    <tr>\n",
       "      <th>gate_40</th>\n",
       "      <td>0.182000</td>\n",
       "      <td>45489</td>\n",
       "    </tr>\n",
       "  </tbody>\n",
       "</table>\n",
       "</div>"
      ],
      "text/plain": [
       "             mean  count\n",
       "version                 \n",
       "gate_30  0.190201  44700\n",
       "gate_40  0.182000  45489"
      ]
     },
     "execution_count": 3,
     "metadata": {},
     "output_type": "execute_result"
    }
   ],
   "source": [
    "df.groupby('version').retention_7.agg(['mean', 'count'])"
   ]
  },
  {
   "cell_type": "markdown",
   "metadata": {},
   "source": [
    "H0 - переміщення на 10 рівнів суттєво ніяк не повпливало на користувачів.переміщення воріт на 10 рівнів пізніше (тепер на 40-ому) сприяло тому, що користувачі перестають грати в гру пізніше з точки зору кількості їх днів з моменту встановлення гри.\n",
    "H1 - переміщення воріт на 10 рівнів пізніше (тепер на 40-ому) сприяло тому, що користувачі перестають грати в гру пізніше з точки зору кількості їх днів з моменту встановлення гри.\n",
    "\n",
    "H0 - нічого не змінилось \n",
    "H1 - утримання в двох версіях гри відрізняється"
   ]
  },
  {
   "cell_type": "markdown",
   "metadata": {
    "id": "74e9c6ca"
   },
   "source": [
    "2. Перевірте з допомогою z-тесту аналогічно до прикладу в лекції, чи дає якась з версій гри кращий показник `retention_7` на рівні значущості 0.05. Обчисліть також довірчі інтервали для двох вибірок. Виведіть результат у форматі:\n",
    "```\n",
    "z statistic: ...\n",
    "p-value: ...\n",
    "Довірчий інтервал 95% для групи control: [..., ...]\n",
    "Довірчий інтервал 95% для групи treatment: [..., ...]\n",
    "```\n",
    "де замість `...` - обчислені значення. В якості висновка дайте відповідь на два питання:  \n",
    "    1. чи є статистична значущою різниця між поведінкою користувачів у різних версіях гри?   \n",
    "    2. чи перетинаються довірчі інтервали утримання користувачів з різних версій гри? Про що це каже?  \n",
    "    \n",
    "Зверніть увагу, в такому і схожому завданнях ми використовуєм `proportion` Z-тест. Це тому що в нас залежна змінна має бінарне значення (повернеться аби ні користувач, чи клікне або ні користувач в інших ситуаціях - всього два можливих значення в змінної: 0/1, True/False ). Якщо б ми вимірювали скажімо чи є стат. значущою різниця між вагою чоловіків і жінок в певній вибірці, ми б використовувавли функцію `statsmodels.stats.ztest`, бо залежна змінна `вага` є неперервною (тип float, замість типу int чи bool і тільки двох можливих значень)."
   ]
  },
  {
   "cell_type": "code",
   "execution_count": 4,
   "metadata": {
    "id": "kXQE4gyjh5MS"
   },
   "outputs": [],
   "source": [
    "from statsmodels.stats.proportion import proportions_ztest, proportion_confint"
   ]
  },
  {
   "cell_type": "code",
   "execution_count": 5,
   "metadata": {
    "tags": []
   },
   "outputs": [],
   "source": [
    "control_results = df[df['version'] == 'gate_30']['retention_7']\n",
    "testing_results = df[df['version'] == 'gate_40']['retention_7']"
   ]
  },
  {
   "cell_type": "code",
   "execution_count": 6,
   "metadata": {
    "tags": []
   },
   "outputs": [],
   "source": [
    "n_con = control_results.count()\n",
    "n_test = testing_results.count()\n",
    "successes = [control_results.sum(), testing_results.sum()]\n",
    "nobs = [n_con, n_test]"
   ]
  },
  {
   "cell_type": "code",
   "execution_count": 7,
   "metadata": {
    "tags": []
   },
   "outputs": [
    {
     "name": "stdout",
     "output_type": "stream",
     "text": [
      "z statistic: 3.16\n",
      "p-value: 0.002\n",
      "Довірчий інтервал 95% для групи control: [0.187, 0.194]\n",
      "Довірчий інтервал 95% для групи testing: [0.178, 0.186]\n"
     ]
    }
   ],
   "source": [
    "z_stat, pval = proportions_ztest(successes, nobs = nobs)\n",
    "(lower_con, lower_test), (upper_con, upper_test) = proportion_confint(successes, nobs = nobs, alpha = 0.05)\n",
    "\n",
    "print(f'z statistic: {z_stat:.2f}')\n",
    "print(f'p-value: {pval:.3f}')\n",
    "print(f'Довірчий інтервал 95% для групи control: [{lower_con:.3f}, {upper_con:.3f}]')\n",
    "print(f'Довірчий інтервал 95% для групи testing: [{lower_test:.3f}, {upper_test:.3f}]')"
   ]
  },
  {
   "cell_type": "markdown",
   "metadata": {},
   "source": [
    "Наше p-value = 0.002 < alpha = 0.05, ми відхиляємо нульову гіпотезу H0.\n",
    "\n",
    "Але якщо ми подивимося довірчий інтервал для групи testing [0,178, 0,186], тобто 17,8-18,6%), ми помітимо, що він менший за довірчий інтервал для нашої базової групи. \n",
    "Це означає, що через переміщення воріт на 10 рівнів пізніше(40-ий рівень) користувачі перестають грати в гру раніше з точки зору кількості їх днів з моменту встановлення гри. "
   ]
  },
  {
   "cell_type": "markdown",
   "metadata": {
    "ExecuteTime": {
     "end_time": "2022-12-10T20:50:10.709766Z",
     "start_time": "2022-12-10T20:50:10.639999Z"
    },
    "id": "076cd867"
   },
   "source": [
    "3. Є ще один тип тестів, який використовується для бінарної метрики як от \"зробить юзер дію, чи ні\" - тест **Хі-квадрат**. В нього інші гіпотези Н0 і Н1 на відміну від z- та t-тестів. А також цей тест можна використовувати, якщо в нас більше за 2 досліджувані групи, тобто в нас не А/В тест, а А/B/C/D, наприклад.  \n",
    "\n",
    "В **z- та t-тестах** (які відрізняються тим, що ми в першому не знаємо дисперсію генеральної сукупності, але якщо в нас великий набір даних, то ці два тести дають дуже схожі результати) **ми перевіряємо, чи є різниця у середніх показниках по групам користувачів**.  \n",
    "\n",
    "А в **тесті Хі-квадрат ми перевіряємо чи є звʼязок між групою користувача і тим, чи він зробить цікаву нам дію**. Це ніби дослідження одного і того самого, але дещо різними способами. Для перевірки, можна виконувати кілька тестів (особливо, якщо один дає якийсь непереконливий результат типу р-значення 0.07 - наче і fail to regect H0 на рівні стат значущості 5%, але цікаво, що скажуть інші тести), тож, зробимо і ми тест хі-квадрат та порівняємо його результат з z-тестом.\n",
    "\n",
    "Про різницю між тестами можна почитати ще [тут](https://stats.stackexchange.com/a/178860) - це просто пояснення користувача стековерфлоу, але там розумні люди сидять.\n",
    "\n",
    "Для проведення хі-квадрат тесту скористаємось функцією з `scipy.stats` `chi2_contingency` для обчислення статистики хі-квадрат і р-значення для перевірки конкретної гіпотези. У цю функцію вам треба передати таблицю 2х2: кількість випадків для кожної версії гри і значення `retention_7`.\n",
    "\n",
    "**Задача**: виконайте тест хі-квадрат на рівні значущості 5% аби визначити, чи є залежність між версією гри та тим, чи зайде гравець на 7ий день після встановлення гри.\n",
    "Тут гіпотези наступні\n",
    "- Н0: значення retention_7 не залежить від версії гри\n",
    "- Н1: є залежність між версією гри і значенням retention_7\n",
    "\n",
    "Виведіть p-значення та зробіть висновок.\n"
   ]
  },
  {
   "cell_type": "code",
   "execution_count": 8,
   "metadata": {
    "tags": []
   },
   "outputs": [
    {
     "data": {
      "text/html": [
       "<div>\n",
       "<style scoped>\n",
       "    .dataframe tbody tr th:only-of-type {\n",
       "        vertical-align: middle;\n",
       "    }\n",
       "\n",
       "    .dataframe tbody tr th {\n",
       "        vertical-align: top;\n",
       "    }\n",
       "\n",
       "    .dataframe thead th {\n",
       "        text-align: right;\n",
       "    }\n",
       "</style>\n",
       "<table border=\"1\" class=\"dataframe\">\n",
       "  <thead>\n",
       "    <tr style=\"text-align: right;\">\n",
       "      <th>retention_7</th>\n",
       "      <th>False</th>\n",
       "      <th>True</th>\n",
       "    </tr>\n",
       "    <tr>\n",
       "      <th>version</th>\n",
       "      <th></th>\n",
       "      <th></th>\n",
       "    </tr>\n",
       "  </thead>\n",
       "  <tbody>\n",
       "    <tr>\n",
       "      <th>gate_30</th>\n",
       "      <td>36198</td>\n",
       "      <td>8502</td>\n",
       "    </tr>\n",
       "    <tr>\n",
       "      <th>gate_40</th>\n",
       "      <td>37210</td>\n",
       "      <td>8279</td>\n",
       "    </tr>\n",
       "  </tbody>\n",
       "</table>\n",
       "</div>"
      ],
      "text/plain": [
       "retention_7  False  True \n",
       "version                  \n",
       "gate_30      36198   8502\n",
       "gate_40      37210   8279"
      ]
     },
     "execution_count": 8,
     "metadata": {},
     "output_type": "execute_result"
    }
   ],
   "source": [
    "table = pd.crosstab(df['version'], df['retention_7'])\n",
    "table"
   ]
  },
  {
   "cell_type": "code",
   "execution_count": 9,
   "metadata": {
    "tags": []
   },
   "outputs": [
    {
     "data": {
      "text/plain": [
       "(9.959086799559167, 0.0016005742679058301)"
      ]
     },
     "execution_count": 9,
     "metadata": {},
     "output_type": "execute_result"
    }
   ],
   "source": [
    "from scipy.stats import chi2_contingency\n",
    "res = chi2_contingency(table)\n",
    "res.statistic, res.pvalue"
   ]
  },
  {
   "cell_type": "markdown",
   "metadata": {},
   "source": [
    "p_value = 0.0016 < 0.05, ми відхиляємр Н0 гіпотезу, інакше кажучи, є залежність між версією гри і значенням retention_7."
   ]
  }
 ],
 "metadata": {
  "colab": {
   "provenance": []
  },
  "kernelspec": {
   "display_name": "Python 3 (ipykernel)",
   "language": "python",
   "name": "python3"
  },
  "language_info": {
   "codemirror_mode": {
    "name": "ipython",
    "version": 3
   },
   "file_extension": ".py",
   "mimetype": "text/x-python",
   "name": "python",
   "nbconvert_exporter": "python",
   "pygments_lexer": "ipython3",
   "version": "3.11.5"
  }
 },
 "nbformat": 4,
 "nbformat_minor": 4
}
