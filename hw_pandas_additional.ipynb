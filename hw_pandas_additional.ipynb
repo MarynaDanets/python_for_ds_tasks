{
 "cells": [
  {
   "cell_type": "markdown",
   "id": "f27af02b",
   "metadata": {},
   "source": [
    "# Додаткове завдання з pandas\n",
    "Вітаю! В цьому завданні будемо працювати з даними з опитування щодо зарплат ІТ спеціалістів на рексурсі DOU від грудня 2022 року. Впевнена, це буде цікаве дослідження, а заразом і практика pandas :)\n",
    "Цей аналіз може бути корисним людині, яка обирає напрям роботи в ІТ і хоче зрозуміти тенденції. За якісного виконання цього аналізу, цей проєкт можна сміливо додавати у Ваше портфоліо!"
   ]
  },
  {
   "cell_type": "markdown",
   "id": "dce4f0a0",
   "metadata": {},
   "source": [
    "1. Зчитайте дані з файлу `2022_dec_raw.csv`. Увага! Тут необхідно використати аргумент `pd.read_csv` `sep=';'`, бо розділювач в даних - крапка з комою."
   ]
  },
  {
   "cell_type": "code",
   "execution_count": 1,
   "id": "a238c418",
   "metadata": {
    "tags": []
   },
   "outputs": [],
   "source": [
    "import pandas as pd\n",
    "df = pd.read_csv('../data/2022_dec_raw.csv', sep = ';')"
   ]
  },
  {
   "cell_type": "markdown",
   "id": "7cf480dc",
   "metadata": {},
   "source": [
    "2. Які колонки мають дані?"
   ]
  },
  {
   "cell_type": "code",
   "execution_count": 2,
   "id": "3768c4d4",
   "metadata": {
    "tags": []
   },
   "outputs": [
    {
     "data": {
      "text/plain": [
       "Index(['Timestamp', 'Ви працюєте зараз в ІТ?', 'Де ви зараз живете? ',\n",
       "       'В якій області ви зараз живете?',\n",
       "       'Зарплата у $$$ за місяць, лише ставка після сплати податків',\n",
       "       'Ваша стать', 'Ваш вік', 'Яка у вас освіта?',\n",
       "       'Чи є у вас науковий ступінь? ', 'Знання англійської мови',\n",
       "       'Оберіть вашу посаду', 'Ваш тайтл', 'Ваша спеціалізація',\n",
       "       'Вкажіть вашу спеціалізацію', 'Оберіть вашу спеціалізацію',\n",
       "       'Ваша посада', 'Оберіть вашу посаду2', 'Ваша посада3', 'Ваша посада4',\n",
       "       'Ваша посада5', 'Ваша посада6', 'Ваша посада7',\n",
       "       'Чи використовуєте ви у своїй роботі мови програмування (одну чи декілька)?',\n",
       "       'Основна мова програмування', 'Вкажіть вашу основну спеціалізацію',\n",
       "       'В якій сфері працюєте?', 'Тип компанії',\n",
       "       'Загальний стаж роботи за спеціальністю'],\n",
       "      dtype='object')"
      ]
     },
     "execution_count": 2,
     "metadata": {},
     "output_type": "execute_result"
    }
   ],
   "source": [
    "df.columns"
   ]
  },
  {
   "cell_type": "markdown",
   "id": "6d324476",
   "metadata": {},
   "source": [
    "3. Скільки рядків та колонок мають дані? Скільки пропущених значень має кожна з колонок?"
   ]
  },
  {
   "cell_type": "code",
   "execution_count": 3,
   "id": "4abb52fa",
   "metadata": {
    "tags": []
   },
   "outputs": [
    {
     "name": "stdout",
     "output_type": "stream",
     "text": [
      "Набір даних містить 13315 рядків та 28 колонок\n"
     ]
    }
   ],
   "source": [
    "df_shape = df.shape\n",
    "print(f'Набір даних містить {df_shape[0]} рядків та {df_shape[1]} колонок')"
   ]
  },
  {
   "cell_type": "code",
   "execution_count": 49,
   "id": "5f51e786-33a5-4712-948f-9da1de90be81",
   "metadata": {
    "tags": []
   },
   "outputs": [
    {
     "name": "stdout",
     "output_type": "stream",
     "text": [
      "<class 'pandas.core.frame.DataFrame'>\n",
      "RangeIndex: 13315 entries, 0 to 13314\n",
      "Data columns (total 28 columns):\n",
      " #   Column                                                                      Non-Null Count  Dtype   \n",
      "---  ------                                                                      --------------  -----   \n",
      " 0   Timestamp                                                                   13315 non-null  object  \n",
      " 1   Ви працюєте зараз в ІТ?                                                     13315 non-null  object  \n",
      " 2   Де ви зараз живете?                                                         13315 non-null  object  \n",
      " 3   В якій області ви зараз живете?                                             11538 non-null  object  \n",
      " 4   Зарплата у $$$ за місяць, лише ставка після сплати податків                 13288 non-null  float64 \n",
      " 5   Ваша стать                                                                  13315 non-null  object  \n",
      " 6   Ваш вік                                                                     13315 non-null  float64 \n",
      " 7   Яка у вас освіта?                                                           13315 non-null  object  \n",
      " 8   Чи є у вас науковий ступінь?                                                13204 non-null  object  \n",
      " 9   Знання англійської мови                                                     13315 non-null  category\n",
      " 10  Оберіть вашу посаду                                                         13315 non-null  object  \n",
      " 11  Ваш тайтл                                                                   13315 non-null  category\n",
      " 12  Ваша спеціалізація                                                          159 non-null    object  \n",
      " 13  Вкажіть вашу спеціалізацію                                                  2364 non-null   object  \n",
      " 14  Оберіть вашу спеціалізацію                                                  486 non-null    object  \n",
      " 15  Ваша посада                                                                 305 non-null    object  \n",
      " 16  Оберіть вашу посаду2                                                        560 non-null    object  \n",
      " 17  Ваша посада3                                                                821 non-null    object  \n",
      " 18  Ваша посада4                                                                485 non-null    object  \n",
      " 19  Ваша посада5                                                                288 non-null    object  \n",
      " 20  Ваша посада6                                                                353 non-null    object  \n",
      " 21  Ваша посада7                                                                116 non-null    object  \n",
      " 22  Чи використовуєте ви у своїй роботі мови програмування (одну чи декілька)?  4874 non-null   object  \n",
      " 23  Основна мова програмування                                                  9060 non-null   object  \n",
      " 24  Вкажіть вашу основну спеціалізацію                                          9059 non-null   object  \n",
      " 25  В якій сфері працюєте?                                                      13315 non-null  object  \n",
      " 26  Тип компанії                                                                13315 non-null  object  \n",
      " 27  Загальний стаж роботи за спеціальністю                                      12393 non-null  category\n",
      "dtypes: category(3), float64(2), object(23)\n",
      "memory usage: 2.6+ MB\n"
     ]
    }
   ],
   "source": [
    "df.info()"
   ]
  },
  {
   "cell_type": "code",
   "execution_count": 54,
   "id": "1a28e5e5-530d-4e2f-9fde-46a61ac31d4c",
   "metadata": {
    "tags": []
   },
   "outputs": [
    {
     "data": {
      "text/plain": [
       "Timestamp                                                                         0\n",
       "Ви працюєте зараз в ІТ?                                                           0\n",
       "Де ви зараз живете?                                                               0\n",
       "В якій області ви зараз живете?                                                1777\n",
       "Зарплата у $$$ за місяць, лише ставка після сплати податків                      27\n",
       "Ваша стать                                                                        0\n",
       "Ваш вік                                                                           0\n",
       "Яка у вас освіта?                                                                 0\n",
       "Чи є у вас науковий ступінь?                                                    111\n",
       "Знання англійської мови                                                           0\n",
       "Оберіть вашу посаду                                                               0\n",
       "Ваш тайтл                                                                         0\n",
       "Ваша спеціалізація                                                            13156\n",
       "Вкажіть вашу спеціалізацію                                                    10951\n",
       "Оберіть вашу спеціалізацію                                                    12829\n",
       "Ваша посада                                                                   13010\n",
       "Оберіть вашу посаду2                                                          12755\n",
       "Ваша посада3                                                                  12494\n",
       "Ваша посада4                                                                  12830\n",
       "Ваша посада5                                                                  13027\n",
       "Ваша посада6                                                                  12962\n",
       "Ваша посада7                                                                  13199\n",
       "Чи використовуєте ви у своїй роботі мови програмування (одну чи декілька)?     8441\n",
       "Основна мова програмування                                                     4255\n",
       "Вкажіть вашу основну спеціалізацію                                             4256\n",
       "В якій сфері працюєте?                                                            0\n",
       "Тип компанії                                                                      0\n",
       "Загальний стаж роботи за спеціальністю                                          922\n",
       "dtype: int64"
      ]
     },
     "execution_count": 54,
     "metadata": {},
     "output_type": "execute_result"
    }
   ],
   "source": [
    "isna = df.isna().sum()\n",
    "isna"
   ]
  },
  {
   "cell_type": "code",
   "execution_count": 52,
   "id": "7e43b161-d4bf-41a3-bf3e-5e4d41ebc2ba",
   "metadata": {
    "tags": []
   },
   "outputs": [
    {
     "data": {
      "text/plain": [
       "Index(['Timestamp', 'Ви працюєте зараз в ІТ?', 'Де ви зараз живете? ',\n",
       "       'Ваша стать', 'Ваш вік', 'Яка у вас освіта?', 'Знання англійської мови',\n",
       "       'Оберіть вашу посаду', 'Ваш тайтл', 'В якій сфері працюєте?',\n",
       "       'Тип компанії'],\n",
       "      dtype='object')"
      ]
     },
     "execution_count": 52,
     "metadata": {},
     "output_type": "execute_result"
    }
   ],
   "source": [
    "isna[isna==0].index"
   ]
  },
  {
   "cell_type": "markdown",
   "id": "854846c5",
   "metadata": {
    "ExecuteTime": {
     "end_time": "2023-07-06T09:12:21.537631Z",
     "start_time": "2023-07-06T09:12:21.481059Z"
    }
   },
   "source": [
    "4. Які колонки мають всі значення заповненими (не мають дожного None значення)? Виведіть програмно список цих колонок."
   ]
  },
  {
   "cell_type": "code",
   "execution_count": 53,
   "id": "5de7ccb7",
   "metadata": {
    "tags": []
   },
   "outputs": [
    {
     "data": {
      "text/plain": [
       "Index(['Timestamp', 'Ви працюєте зараз в ІТ?', 'Де ви зараз живете? ',\n",
       "       'Ваша стать', 'Ваш вік', 'Яка у вас освіта?', 'Знання англійської мови',\n",
       "       'Оберіть вашу посаду', 'Ваш тайтл', 'В якій сфері працюєте?',\n",
       "       'Тип компанії'],\n",
       "      dtype='object')"
      ]
     },
     "execution_count": 53,
     "metadata": {},
     "output_type": "execute_result"
    }
   ],
   "source": [
    "isna[isna==0].index"
   ]
  },
  {
   "cell_type": "markdown",
   "id": "2e6a2867",
   "metadata": {
    "ExecuteTime": {
     "end_time": "2023-07-06T10:56:38.046761Z",
     "start_time": "2023-07-06T10:56:38.038875Z"
    }
   },
   "source": [
    "5. Який тип мають колонки в наборі даних? Які з колонок типу object логічно на ваш погляд перетворити на числові колонки?"
   ]
  },
  {
   "cell_type": "code",
   "execution_count": 6,
   "id": "3915a5f8",
   "metadata": {
    "tags": []
   },
   "outputs": [
    {
     "data": {
      "text/plain": [
       "Timestamp                                                                     object\n",
       "Ви працюєте зараз в ІТ?                                                       object\n",
       "Де ви зараз живете?                                                           object\n",
       "В якій області ви зараз живете?                                               object\n",
       "Зарплата у $$$ за місяць, лише ставка після сплати податків                   object\n",
       "Ваша стать                                                                    object\n",
       "Ваш вік                                                                       object\n",
       "Яка у вас освіта?                                                             object\n",
       "Чи є у вас науковий ступінь?                                                  object\n",
       "Знання англійської мови                                                       object\n",
       "Оберіть вашу посаду                                                           object\n",
       "Ваш тайтл                                                                     object\n",
       "Ваша спеціалізація                                                            object\n",
       "Вкажіть вашу спеціалізацію                                                    object\n",
       "Оберіть вашу спеціалізацію                                                    object\n",
       "Ваша посада                                                                   object\n",
       "Оберіть вашу посаду2                                                          object\n",
       "Ваша посада3                                                                  object\n",
       "Ваша посада4                                                                  object\n",
       "Ваша посада5                                                                  object\n",
       "Ваша посада6                                                                  object\n",
       "Ваша посада7                                                                  object\n",
       "Чи використовуєте ви у своїй роботі мови програмування (одну чи декілька)?    object\n",
       "Основна мова програмування                                                    object\n",
       "Вкажіть вашу основну спеціалізацію                                            object\n",
       "В якій сфері працюєте?                                                        object\n",
       "Тип компанії                                                                  object\n",
       "Загальний стаж роботи за спеціальністю                                        object\n",
       "dtype: object"
      ]
     },
     "execution_count": 6,
     "metadata": {},
     "output_type": "execute_result"
    }
   ],
   "source": [
    "df.dtypes"
   ]
  },
  {
   "cell_type": "markdown",
   "id": "2dad1c9d-84b1-42a0-a4ba-6218df29aecc",
   "metadata": {},
   "source": [
    "Я б перетворила зарплату, вік та стаж на числові колонки."
   ]
  },
  {
   "cell_type": "markdown",
   "id": "3da64e75",
   "metadata": {},
   "source": [
    "6. Трансформуйте колонки 'Ваш вік', 'Зарплата у $$$ за місяць, лише ставка після сплати податків' у тип даних float. УВАГА! Перед трансформацією подивіться, які дані містять ці колонки. Аби успішно трансформувати тип даних, треба спочатку привести рядки до того виду, який буде підходити, аби потім рядок зробити типом float."
   ]
  },
  {
   "cell_type": "code",
   "execution_count": 7,
   "id": "def64000-8728-4e9f-98c7-caf0692ae039",
   "metadata": {
    "tags": []
   },
   "outputs": [],
   "source": [
    "df_without_na = df.dropna(subset=['Зарплата у $$$ за місяць, лише ставка після сплати податків'])\n",
    "df_without_na = df_without_na['Зарплата у $$$ за місяць, лише ставка після сплати податків'].str.replace(',', '.')"
   ]
  },
  {
   "cell_type": "code",
   "execution_count": 8,
   "id": "b89ee0a3-973a-4e77-8c22-1e136f729019",
   "metadata": {
    "tags": []
   },
   "outputs": [],
   "source": [
    "def get_float(value: str):\n",
    "    return float(value)"
   ]
  },
  {
   "cell_type": "code",
   "execution_count": 9,
   "id": "a3aab8fe-d4ba-4337-bbf0-e4563b17be46",
   "metadata": {
    "tags": []
   },
   "outputs": [],
   "source": [
    "df['Зарплата у $$$ за місяць, лише ставка після сплати податків'] = df_without_na.apply(get_float)"
   ]
  },
  {
   "cell_type": "code",
   "execution_count": 10,
   "id": "2315aaca-56b9-48cb-8b91-d96b7adb48c7",
   "metadata": {
    "tags": []
   },
   "outputs": [],
   "source": [
    "df_age_without_na = df.dropna(subset=['Ваш вік'])\n",
    "df_age_without_na = df_age_without_na['Ваш вік'].str.replace(',', '.')"
   ]
  },
  {
   "cell_type": "code",
   "execution_count": 11,
   "id": "76173c1c",
   "metadata": {
    "tags": []
   },
   "outputs": [],
   "source": [
    "df['Ваш вік'] = df_age_without_na.apply(get_float)"
   ]
  },
  {
   "cell_type": "markdown",
   "id": "9c4181cb",
   "metadata": {
    "ExecuteTime": {
     "end_time": "2023-07-06T11:36:23.006200Z",
     "start_time": "2023-07-06T11:36:22.975108Z"
    }
   },
   "source": [
    "7. Це завдання з зірочкою! Нам треба транфсформувати колонку Timestamp у тип даних `datetime64[ns]`. Це не так просто як здається на першйий погляд :) Але це реальна ситуація, яка може трапитись при зборі даних в роботі аналітиком.\n",
    "Я запропоную один зі способів виконати завдання, але ви можете написати по-своєму. Головне - отримати колонку - потрібного типу. \n",
    "Пропоную наступний алгоритм дій:\n",
    "    1. Подивитись, які дані містяться в цій колонці. Виведіть перші і останні 5 записів. Чи однаковий формат цих даних? (спойлер: ні, бо інакше все було б просто :))\n",
    "    2. Нам треба враховуючи різний формат даних перетворити рядок у колонці `Timestamp` на тип `datetime64[ns]`. Як це зробити? Для перетворення рядка на `datetime64` пропоную скористатись `datetime.datetime.strptime`.\n",
    "    Для цього треба імпортувати бібліотеку `datetime`. Я пропоную написати функцію для обробки кожного окремого рядка, яка враховує довжину рядка і на основі цього застосовує різний формат даних дати.\n",
    "    Як прописувати формат даних можна переглянути [тут](https://www.w3schools.com/python/python_datetime.asp).\n",
    "    3. Коли функція для обробки кожного окремого рядка готова, застосуйте її для всіх даних з допомогою методу `apply`."
   ]
  },
  {
   "cell_type": "code",
   "execution_count": null,
   "id": "c3bcbd33",
   "metadata": {},
   "outputs": [],
   "source": []
  },
  {
   "cell_type": "markdown",
   "id": "e60cd492",
   "metadata": {},
   "source": [
    "8. Для колонок типу даних object (які такими лишились після всіх наших трансформацій) виведіть кількість унікальних значень."
   ]
  },
  {
   "cell_type": "code",
   "execution_count": 55,
   "id": "c729c27d",
   "metadata": {},
   "outputs": [
    {
     "data": {
      "text/plain": [
       "Timestamp                                                                     10850\n",
       "Ви працюєте зараз в ІТ?                                                           5\n",
       "Де ви зараз живете?                                                               2\n",
       "В якій області ви зараз живете?                                                  23\n",
       "Ваша стать                                                                        2\n",
       "Яка у вас освіта?                                                                 5\n",
       "Чи є у вас науковий ступінь?                                                      3\n",
       "Оберіть вашу посаду                                                              22\n",
       "Ваша спеціалізація                                                                8\n",
       "Вкажіть вашу спеціалізацію                                                        4\n",
       "Оберіть вашу спеціалізацію                                                       21\n",
       "Ваша посада                                                                      15\n",
       "Оберіть вашу посаду2                                                              7\n",
       "Ваша посада3                                                                      7\n",
       "Ваша посада4                                                                      5\n",
       "Ваша посада5                                                                      6\n",
       "Ваша посада6                                                                      2\n",
       "Ваша посада7                                                                      4\n",
       "Чи використовуєте ви у своїй роботі мови програмування (одну чи декілька)?        2\n",
       "Основна мова програмування                                                       33\n",
       "Вкажіть вашу основну спеціалізацію                                               12\n",
       "В якій сфері працюєте?                                                         1768\n",
       "Тип компанії                                                                      6\n",
       "dtype: int64"
      ]
     },
     "execution_count": 55,
     "metadata": {},
     "output_type": "execute_result"
    }
   ],
   "source": [
    "df.select_dtypes('object').nunique()"
   ]
  },
  {
   "cell_type": "markdown",
   "id": "03500adf",
   "metadata": {},
   "source": [
    "9. Для колонок типу даних object виведіть топ 10 найбільш частих значень з кількістю рядків, в яких це значення зустрічається. Зробіть це для кожної колонки окремо. Наприклад, в циклі.  \n",
    "Що цікавого бачите? Які висновки можна зробити? Що особисто Вас вразило?"
   ]
  },
  {
   "cell_type": "code",
   "execution_count": 29,
   "id": "cfd77ebf-3ba0-4bba-aeba-6e0622ba536a",
   "metadata": {
    "tags": []
   },
   "outputs": [],
   "source": [
    "for i in range(len(df)):\n",
    "    if df['Ваш вік'].dtypes == object:\n",
    "        print(df['i'].mode())"
   ]
  },
  {
   "cell_type": "code",
   "execution_count": 19,
   "id": "add43481",
   "metadata": {},
   "outputs": [
    {
     "data": {
      "text/plain": [
       "0    Upper-Intermediate\n",
       "Name: Знання англійської мови, dtype: object"
      ]
     },
     "execution_count": 19,
     "metadata": {},
     "output_type": "execute_result"
    }
   ],
   "source": [
    "df['Знання англійської мови'].mode()"
   ]
  },
  {
   "cell_type": "markdown",
   "id": "35cf7d10",
   "metadata": {},
   "source": [
    "10. Виведіть медіанну (медіана - це значення, менше якого є рівно 50% вибірки і більше якого є теж рівно 50% вибірки)\n",
    "ЗП (Зарплата у $$$) для кожного рівня знання англійської. Які висновки можна зробити?"
   ]
  },
  {
   "cell_type": "code",
   "execution_count": 56,
   "id": "62e17c84",
   "metadata": {},
   "outputs": [
    {
     "data": {
      "text/plain": [
       "Знання англійської мови\n",
       "Elementary            1155.0\n",
       "Pre-Intermediate      1404.0\n",
       "Intermediate          2125.0\n",
       "Upper-Intermediate    3300.0\n",
       "Advanced              3500.0\n",
       "Name: Зарплата у $$$ за місяць, лише ставка після сплати податків, dtype: float64"
      ]
     },
     "execution_count": 56,
     "metadata": {},
     "output_type": "execute_result"
    }
   ],
   "source": [
    "df.groupby(by = ['Знання англійської мови'])['Зарплата у $$$ за місяць, лише ставка після сплати податків'].median()"
   ]
  },
  {
   "cell_type": "code",
   "execution_count": 37,
   "id": "93b29ece-c8ba-4bbc-b835-cbc72271e0ab",
   "metadata": {
    "tags": []
   },
   "outputs": [
    {
     "data": {
      "text/plain": [
       "Ваш тайтл\n",
       "Intern/Trainee    25.600000\n",
       "Junior            26.301382\n",
       "Немає тайтлу      29.302977\n",
       "Middle            28.366030\n",
       "Senior            31.348529\n",
       "Tech Lead         32.639535\n",
       "Team Lead         31.249717\n",
       "Architect         34.607143\n",
       "Head              32.332000\n",
       "Manager           31.592000\n",
       "Name: Ваш вік, dtype: float64"
      ]
     },
     "execution_count": 37,
     "metadata": {},
     "output_type": "execute_result"
    }
   ],
   "source": [
    "df.groupby(by = ['Ваш тайтл'])['Ваш вік'].mean()"
   ]
  },
  {
   "cell_type": "markdown",
   "id": "0992c456",
   "metadata": {
    "ExecuteTime": {
     "end_time": "2023-07-06T11:56:25.250162Z",
     "start_time": "2023-07-06T11:56:25.244477Z"
    }
   },
   "source": [
    "11. Є така штука як сортування значень категоріальної змінної. Нам це зараз стане в нагоді, адже рівні англійської можна посортувати. \n",
    "Давайте відсотруємо рівні англ. і тайтли. Просто запустіть код нижче і проаналізуйте, що він робить."
   ]
  },
  {
   "cell_type": "code",
   "execution_count": 31,
   "id": "daa45b42",
   "metadata": {
    "tags": []
   },
   "outputs": [],
   "source": [
    "df['Знання англійської мови'] = pd.Categorical(df['Знання англійської мови'], \n",
    "                      categories=['Elementary','Pre-Intermediate','Intermediate','Upper-Intermediate','Advanced'],\n",
    "                      ordered=True)\n",
    "\n",
    "df['Ваш тайтл'] = pd.Categorical(df['Ваш тайтл'], \n",
    "                      categories=['Intern/Trainee', 'Junior', 'Немає тайтлу', 'Middle', 'Senior', 'Tech Lead', 'Team Lead', 'Architect', 'Head', 'Manager'],\n",
    "                      ordered=True)"
   ]
  },
  {
   "cell_type": "markdown",
   "id": "d055e149",
   "metadata": {
    "ExecuteTime": {
     "end_time": "2023-07-06T11:52:57.539571Z",
     "start_time": "2023-07-06T11:52:57.535277Z"
    }
   },
   "source": [
    "12. Зробіть зводну таблицю, де стовпці - це 'Ваш тайтл', рядки - 'Знання англійської мови', а значення - медіанна ЗП. Які висновки можна зробити?\n",
    "Тут ще для зручності можна зробити градієнтне забарвлення і відформатувати значення для легшого перегляду."
   ]
  },
  {
   "cell_type": "code",
   "execution_count": 57,
   "id": "07f4702e",
   "metadata": {
    "tags": []
   },
   "outputs": [
    {
     "data": {
      "text/html": [
       "<div>\n",
       "<style scoped>\n",
       "    .dataframe tbody tr th:only-of-type {\n",
       "        vertical-align: middle;\n",
       "    }\n",
       "\n",
       "    .dataframe tbody tr th {\n",
       "        vertical-align: top;\n",
       "    }\n",
       "\n",
       "    .dataframe thead th {\n",
       "        text-align: right;\n",
       "    }\n",
       "</style>\n",
       "<table border=\"1\" class=\"dataframe\">\n",
       "  <thead>\n",
       "    <tr style=\"text-align: right;\">\n",
       "      <th>Ваш тайтл</th>\n",
       "      <th>Intern/Trainee</th>\n",
       "      <th>Junior</th>\n",
       "      <th>Немає тайтлу</th>\n",
       "      <th>Middle</th>\n",
       "      <th>Senior</th>\n",
       "      <th>Tech Lead</th>\n",
       "      <th>Team Lead</th>\n",
       "      <th>Architect</th>\n",
       "      <th>Head</th>\n",
       "      <th>Manager</th>\n",
       "    </tr>\n",
       "    <tr>\n",
       "      <th>Знання англійської мови</th>\n",
       "      <th></th>\n",
       "      <th></th>\n",
       "      <th></th>\n",
       "      <th></th>\n",
       "      <th></th>\n",
       "      <th></th>\n",
       "      <th></th>\n",
       "      <th></th>\n",
       "      <th></th>\n",
       "      <th></th>\n",
       "    </tr>\n",
       "  </thead>\n",
       "  <tbody>\n",
       "    <tr>\n",
       "      <th>Elementary</th>\n",
       "      <td>500.0</td>\n",
       "      <td>600.0</td>\n",
       "      <td>550.0</td>\n",
       "      <td>1500.0</td>\n",
       "      <td>2500.0</td>\n",
       "      <td>5000.0</td>\n",
       "      <td>2100.0</td>\n",
       "      <td>NaN</td>\n",
       "      <td>1500.0</td>\n",
       "      <td>1120.0</td>\n",
       "    </tr>\n",
       "    <tr>\n",
       "      <th>Pre-Intermediate</th>\n",
       "      <td>400.0</td>\n",
       "      <td>800.0</td>\n",
       "      <td>934.0</td>\n",
       "      <td>1825.0</td>\n",
       "      <td>3500.0</td>\n",
       "      <td>4000.0</td>\n",
       "      <td>2850.0</td>\n",
       "      <td>2900.0</td>\n",
       "      <td>2400.0</td>\n",
       "      <td>1225.0</td>\n",
       "    </tr>\n",
       "    <tr>\n",
       "      <th>Intermediate</th>\n",
       "      <td>400.0</td>\n",
       "      <td>900.0</td>\n",
       "      <td>1300.0</td>\n",
       "      <td>2200.0</td>\n",
       "      <td>4100.0</td>\n",
       "      <td>5000.0</td>\n",
       "      <td>3800.0</td>\n",
       "      <td>5450.0</td>\n",
       "      <td>3500.0</td>\n",
       "      <td>2100.0</td>\n",
       "    </tr>\n",
       "    <tr>\n",
       "      <th>Upper-Intermediate</th>\n",
       "      <td>485.0</td>\n",
       "      <td>1000.0</td>\n",
       "      <td>1600.0</td>\n",
       "      <td>2500.0</td>\n",
       "      <td>4750.0</td>\n",
       "      <td>5650.0</td>\n",
       "      <td>4655.0</td>\n",
       "      <td>6400.0</td>\n",
       "      <td>4000.0</td>\n",
       "      <td>3600.0</td>\n",
       "    </tr>\n",
       "    <tr>\n",
       "      <th>Advanced</th>\n",
       "      <td>500.0</td>\n",
       "      <td>1000.0</td>\n",
       "      <td>2075.0</td>\n",
       "      <td>2500.0</td>\n",
       "      <td>4750.0</td>\n",
       "      <td>6000.0</td>\n",
       "      <td>5000.0</td>\n",
       "      <td>7000.0</td>\n",
       "      <td>5000.0</td>\n",
       "      <td>4000.0</td>\n",
       "    </tr>\n",
       "  </tbody>\n",
       "</table>\n",
       "</div>"
      ],
      "text/plain": [
       "Ваш тайтл                Intern/Trainee  Junior  Немає тайтлу  Middle  Senior  \\\n",
       "Знання англійської мови                                                         \n",
       "Elementary                        500.0   600.0         550.0  1500.0  2500.0   \n",
       "Pre-Intermediate                  400.0   800.0         934.0  1825.0  3500.0   \n",
       "Intermediate                      400.0   900.0        1300.0  2200.0  4100.0   \n",
       "Upper-Intermediate                485.0  1000.0        1600.0  2500.0  4750.0   \n",
       "Advanced                          500.0  1000.0        2075.0  2500.0  4750.0   \n",
       "\n",
       "Ваш тайтл                Tech Lead  Team Lead  Architect    Head  Manager  \n",
       "Знання англійської мови                                                    \n",
       "Elementary                  5000.0     2100.0        NaN  1500.0   1120.0  \n",
       "Pre-Intermediate            4000.0     2850.0     2900.0  2400.0   1225.0  \n",
       "Intermediate                5000.0     3800.0     5450.0  3500.0   2100.0  \n",
       "Upper-Intermediate          5650.0     4655.0     6400.0  4000.0   3600.0  \n",
       "Advanced                    6000.0     5000.0     7000.0  5000.0   4000.0  "
      ]
     },
     "execution_count": 57,
     "metadata": {},
     "output_type": "execute_result"
    }
   ],
   "source": [
    "table = pd.pivot_table(df, index='Знання англійської мови', columns='Ваш тайтл', values='Зарплата у $$$ за місяць, лише ставка після сплати податків', aggfunc='median')\n",
    "table"
   ]
  },
  {
   "cell_type": "markdown",
   "id": "79e56d8c-ee9a-4ce9-bcc9-47a41480de99",
   "metadata": {},
   "source": [
    "Рівень англійської напряму впливає на рівень зарплати, навіть, якщо спеціаліст сильний технічно, то зі знанням мови він буде отримувати більше."
   ]
  },
  {
   "cell_type": "markdown",
   "id": "edbb7046",
   "metadata": {},
   "source": [
    "13. Виведіть результат методу describe() для топ 5 за частотою зустрічання в даних областей (В якій області ви зараз живете?). Зробіть висновки, де вигідніше жити з точки зору ЗП і чи суттєва різниця на Ваш погляд для прийняття рішення про переїзд?"
   ]
  },
  {
   "cell_type": "code",
   "execution_count": 41,
   "id": "96f7d7d9",
   "metadata": {},
   "outputs": [
    {
     "data": {
      "text/plain": [
       "В якій області ви зараз живете?\n",
       "Київ чи область                4411\n",
       "Львів чи область               2353\n",
       "Дніпро чи область               751\n",
       "Івано-Франківськ чи область     478\n",
       "Вінниця чи область              447\n",
       "Name: count, dtype: int64"
      ]
     },
     "execution_count": 41,
     "metadata": {},
     "output_type": "execute_result"
    }
   ],
   "source": [
    "df['В якій області ви зараз живете?'].value_counts()[:5]"
   ]
  },
  {
   "cell_type": "code",
   "execution_count": 58,
   "id": "d06eb96b-a71b-4173-949f-f7b5128a5646",
   "metadata": {
    "tags": []
   },
   "outputs": [
    {
     "data": {
      "text/html": [
       "<div>\n",
       "<style scoped>\n",
       "    .dataframe tbody tr th:only-of-type {\n",
       "        vertical-align: middle;\n",
       "    }\n",
       "\n",
       "    .dataframe tbody tr th {\n",
       "        vertical-align: top;\n",
       "    }\n",
       "\n",
       "    .dataframe thead th {\n",
       "        text-align: right;\n",
       "    }\n",
       "</style>\n",
       "<table border=\"1\" class=\"dataframe\">\n",
       "  <thead>\n",
       "    <tr style=\"text-align: right;\">\n",
       "      <th></th>\n",
       "      <th>count</th>\n",
       "      <th>mean</th>\n",
       "      <th>std</th>\n",
       "      <th>min</th>\n",
       "      <th>25%</th>\n",
       "      <th>50%</th>\n",
       "      <th>75%</th>\n",
       "      <th>max</th>\n",
       "    </tr>\n",
       "    <tr>\n",
       "      <th>В якій області ви зараз живете?</th>\n",
       "      <th></th>\n",
       "      <th></th>\n",
       "      <th></th>\n",
       "      <th></th>\n",
       "      <th></th>\n",
       "      <th></th>\n",
       "      <th></th>\n",
       "      <th></th>\n",
       "    </tr>\n",
       "  </thead>\n",
       "  <tbody>\n",
       "    <tr>\n",
       "      <th>Івано-Франківськ чи область</th>\n",
       "      <td>478.0</td>\n",
       "      <td>2705.257322</td>\n",
       "      <td>1905.673385</td>\n",
       "      <td>200.0</td>\n",
       "      <td>1200.0</td>\n",
       "      <td>2372.5</td>\n",
       "      <td>3775.0</td>\n",
       "      <td>12436.0</td>\n",
       "    </tr>\n",
       "    <tr>\n",
       "      <th>Вінниця чи область</th>\n",
       "      <td>447.0</td>\n",
       "      <td>2888.306085</td>\n",
       "      <td>1902.668331</td>\n",
       "      <td>100.0</td>\n",
       "      <td>1300.0</td>\n",
       "      <td>2612.0</td>\n",
       "      <td>4100.0</td>\n",
       "      <td>11675.0</td>\n",
       "    </tr>\n",
       "    <tr>\n",
       "      <th>Дніпро чи область</th>\n",
       "      <td>751.0</td>\n",
       "      <td>2582.584554</td>\n",
       "      <td>1864.711284</td>\n",
       "      <td>100.0</td>\n",
       "      <td>1025.0</td>\n",
       "      <td>2000.0</td>\n",
       "      <td>3600.0</td>\n",
       "      <td>12000.0</td>\n",
       "    </tr>\n",
       "    <tr>\n",
       "      <th>Київ чи область</th>\n",
       "      <td>4411.0</td>\n",
       "      <td>3141.810209</td>\n",
       "      <td>2039.859712</td>\n",
       "      <td>80.0</td>\n",
       "      <td>1500.0</td>\n",
       "      <td>2800.0</td>\n",
       "      <td>4500.0</td>\n",
       "      <td>16000.0</td>\n",
       "    </tr>\n",
       "    <tr>\n",
       "      <th>Львів чи область</th>\n",
       "      <td>2353.0</td>\n",
       "      <td>3121.441751</td>\n",
       "      <td>2102.721295</td>\n",
       "      <td>150.0</td>\n",
       "      <td>1375.0</td>\n",
       "      <td>2700.0</td>\n",
       "      <td>4500.0</td>\n",
       "      <td>14000.0</td>\n",
       "    </tr>\n",
       "  </tbody>\n",
       "</table>\n",
       "</div>"
      ],
      "text/plain": [
       "                                  count         mean          std    min  \\\n",
       "В якій області ви зараз живете?                                            \n",
       "Івано-Франківськ чи область       478.0  2705.257322  1905.673385  200.0   \n",
       "Вінниця чи область                447.0  2888.306085  1902.668331  100.0   \n",
       "Дніпро чи область                 751.0  2582.584554  1864.711284  100.0   \n",
       "Київ чи область                  4411.0  3141.810209  2039.859712   80.0   \n",
       "Львів чи область                 2353.0  3121.441751  2102.721295  150.0   \n",
       "\n",
       "                                    25%     50%     75%      max  \n",
       "В якій області ви зараз живете?                                   \n",
       "Івано-Франківськ чи область      1200.0  2372.5  3775.0  12436.0  \n",
       "Вінниця чи область               1300.0  2612.0  4100.0  11675.0  \n",
       "Дніпро чи область                1025.0  2000.0  3600.0  12000.0  \n",
       "Київ чи область                  1500.0  2800.0  4500.0  16000.0  \n",
       "Львів чи область                 1375.0  2700.0  4500.0  14000.0  "
      ]
     },
     "execution_count": 58,
     "metadata": {},
     "output_type": "execute_result"
    }
   ],
   "source": [
    "top_districts = df['В якій області ви зараз живете?'].value_counts().sort_values(ascending=False).head(5).index\n",
    "df[df['В якій області ви зараз живете?'].isin(top_districts)].groupby('В якій області ви зараз живете?')['Зарплата у $$$ за місяць, лише ставка після сплати податків'].describe()"
   ]
  },
  {
   "cell_type": "markdown",
   "id": "6e7902df-b4be-4c27-989d-0983b8ceb446",
   "metadata": {},
   "source": [
    "Переважає столиця, так як там зосереджена найбільша кількість офосів, можливість розвитку, відвідування івентів, але і ціна життя у Києві набагато вища.\n",
    "У Львові також зосереджена велика кількість офісів, історична столиця України, ціна життя до 2022 менша, порівнюючи з Києвом. Також через вторгнення Росії Львів є одним з найбезпечніших міст України.\n",
    "Починаючи з 2022 року на прийняття рішень українців про переїзд впливає юезпечність міста, віддаленість від гарячих точок, постачання електроенергії, а потім вже інфраструктупв міста. \n",
    "У Дніпрі зараз багато людей через те, що туди переселилася люди зі східних міст, а це найближче велике доступне місто для IT."
   ]
  },
  {
   "cell_type": "markdown",
   "id": "3bc4a018",
   "metadata": {},
   "source": [
    "14. Як зростає зарплата з роками? Для цього нам треба відформатувати колонку \"Загальний стаж роботи за спеціальністю\" аналогічно до того, як ми це робили для колонки 'Знання англійської мови' і потім вивести медіанні значення для кількості років стажу."
   ]
  },
  {
   "cell_type": "code",
   "execution_count": 73,
   "id": "1dc841ed-a85f-4c7e-96d4-61e52c4d1469",
   "metadata": {
    "tags": []
   },
   "outputs": [
    {
     "data": {
      "text/plain": [
       "['8 років', '3 роки', '4 роки', 'Пів року', '6 років', ..., NaN, '3 місяці', '12 років', '14 років', '13 років']\n",
       "Length: 18\n",
       "Categories (18, object): ['Менше як 3 місяці' < '3 місяці' < 'Пів року' < '1 рік' ... '12 років' < '13 років' < '14 років' < '15 років і більше']"
      ]
     },
     "execution_count": 73,
     "metadata": {},
     "output_type": "execute_result"
    }
   ],
   "source": [
    "df['Загальний стаж роботи за спеціальністю'].unique()"
   ]
  },
  {
   "cell_type": "code",
   "execution_count": 70,
   "id": "27e48a06-6794-4dee-a663-3a459837a6bf",
   "metadata": {
    "tags": []
   },
   "outputs": [
    {
     "data": {
      "text/plain": [
       "Загальний стаж роботи за спеціальністю\n",
       "3 роки               1608\n",
       "4 роки               1447\n",
       "2 роки               1427\n",
       "5 років              1351\n",
       "1,5 року             1056\n",
       "6 років               982\n",
       "1 рік                 922\n",
       "7 років               791\n",
       "10 років              599\n",
       "8 років               529\n",
       "Пів року              457\n",
       "Менше як 3 місяці     434\n",
       "11 років              233\n",
       "12 років              206\n",
       "3 місяці              158\n",
       "13 років               97\n",
       "14 років               96\n",
       "15 років і більше       0\n",
       "Name: count, dtype: int64"
      ]
     },
     "execution_count": 70,
     "metadata": {},
     "output_type": "execute_result"
    }
   ],
   "source": [
    "df['Загальний стаж роботи за спеціальністю'].value_counts()"
   ]
  },
  {
   "cell_type": "code",
   "execution_count": 66,
   "id": "20c1b2eb",
   "metadata": {},
   "outputs": [],
   "source": [
    "df['Загальний стаж роботи за спеціальністю'] = pd.Categorical(df['Загальний стаж роботи за спеціальністю'], \n",
    "                      categories=['Менше як 3 місяці', '3 місяці','Пів року','1 рік','1,5 року', '2 роки','3 роки','4 роки', '5 років', '6 років', '7 років', '8 років', '10 років', '11 років', '12 років', '13 років', '14 років', '15 років і більше'],\n",
    "                      ordered=True)"
   ]
  },
  {
   "cell_type": "code",
   "execution_count": 67,
   "id": "86adc59d-c7d6-48a1-b051-3d32b80231c0",
   "metadata": {
    "tags": []
   },
   "outputs": [
    {
     "data": {
      "text/plain": [
       "Загальний стаж роботи за спеціальністю\n",
       "Менше як 3 місяці     800.0\n",
       "3 місяці              525.0\n",
       "Пів року              700.0\n",
       "1 рік                 950.0\n",
       "1,5 року             1200.0\n",
       "2 роки               1700.0\n",
       "3 роки               2450.0\n",
       "4 роки               3000.0\n",
       "5 років              3500.0\n",
       "6 років              4000.0\n",
       "7 років              4250.0\n",
       "8 років              4700.0\n",
       "10 років             4600.0\n",
       "11 років             5000.0\n",
       "12 років             4750.0\n",
       "13 років             4500.0\n",
       "14 років             5050.0\n",
       "15 років і більше       NaN\n",
       "Name: Зарплата у $$$ за місяць, лише ставка після сплати податків, dtype: float64"
      ]
     },
     "execution_count": 67,
     "metadata": {},
     "output_type": "execute_result"
    }
   ],
   "source": [
    "df.groupby(by = ['Загальний стаж роботи за спеціальністю'])['Зарплата у $$$ за місяць, лише ставка після сплати податків'].median()"
   ]
  },
  {
   "cell_type": "markdown",
   "id": "b14a10ee",
   "metadata": {},
   "source": [
    "Далі тут можна зробити багато аналогічних агрегацій, проаналізувати, в який час люди заповнювали форму, хто більше отримує, Business Analyst, чи Data Analyst. Я вас заохочувати не стримувати свій інтерес і покапати ці дані далі :)"
   ]
  }
 ],
 "metadata": {
  "kernelspec": {
   "display_name": "Python 3 (ipykernel)",
   "language": "python",
   "name": "python3"
  },
  "language_info": {
   "codemirror_mode": {
    "name": "ipython",
    "version": 3
   },
   "file_extension": ".py",
   "mimetype": "text/x-python",
   "name": "python",
   "nbconvert_exporter": "python",
   "pygments_lexer": "ipython3",
   "version": "3.11.5"
  },
  "toc": {
   "base_numbering": 1,
   "nav_menu": {},
   "number_sections": true,
   "sideBar": true,
   "skip_h1_title": false,
   "title_cell": "Table of Contents",
   "title_sidebar": "Contents",
   "toc_cell": false,
   "toc_position": {},
   "toc_section_display": true,
   "toc_window_display": false
  }
 },
 "nbformat": 4,
 "nbformat_minor": 5
}
